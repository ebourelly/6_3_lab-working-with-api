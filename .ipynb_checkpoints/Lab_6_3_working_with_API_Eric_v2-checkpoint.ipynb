{
 "cells": [
  {
   "cell_type": "code",
   "execution_count": 1,
   "id": "c16e4b5b",
   "metadata": {},
   "outputs": [],
   "source": [
    "import requests\n",
    "import json\n",
    "import pandas as pd\n",
    "import getpass\n",
    "import datetime"
   ]
  },
  {
   "cell_type": "markdown",
   "id": "cf66d0b2",
   "metadata": {},
   "source": [
    "Solution to initiate the API was found here by Ekaterina :\n",
    "https://stmorse.github.io/journal/spotify-api.html"
   ]
  },
  {
   "cell_type": "code",
   "execution_count": 2,
   "id": "eff15910",
   "metadata": {},
   "outputs": [
    {
     "name": "stdout",
     "output_type": "stream",
     "text": [
      "········\n"
     ]
    }
   ],
   "source": [
    "import getpass\n",
    "client_id = getpass.getpass()"
   ]
  },
  {
   "cell_type": "code",
   "execution_count": 3,
   "id": "eeeb3996",
   "metadata": {},
   "outputs": [
    {
     "name": "stdout",
     "output_type": "stream",
     "text": [
      "········\n"
     ]
    }
   ],
   "source": [
    "client_secret = getpass.getpass()"
   ]
  },
  {
   "cell_type": "code",
   "execution_count": 110,
   "id": "b54c15bf",
   "metadata": {},
   "outputs": [],
   "source": [
    "AUTH_URL = 'https://accounts.spotify.com/api/token'\n",
    "\n",
    "# POST\n",
    "auth_response = requests.post(AUTH_URL, {\n",
    "    'grant_type': 'client_credentials',\n",
    "    'client_id': client_id,\n",
    "    'client_secret': client_secret,\n",
    "})\n",
    "\n",
    "# convert the response to JSON\n",
    "auth_response_data = auth_response.json()\n",
    "\n",
    "# save the access token\n",
    "access_token = auth_response_data['access_token']"
   ]
  },
  {
   "cell_type": "code",
   "execution_count": 111,
   "id": "1b8ad477",
   "metadata": {},
   "outputs": [],
   "source": [
    "headers = {\n",
    "    'Authorization': 'Bearer {token}'.format(token=access_token)\n",
    "}\n"
   ]
  },
  {
   "cell_type": "code",
   "execution_count": 112,
   "id": "0a0659fe",
   "metadata": {},
   "outputs": [],
   "source": [
    "# base URL of all Spotify API endpoints\n",
    "BASE_URL = 'https://api.spotify.com/v1/'\n",
    "\n",
    "# Track ID from the URI\n",
    "playlist_id = '5pQVH0EJssqt4KDXPQVwv3'\n",
    "\n",
    "# actual GET request with proper header\n",
    "r = requests.get(BASE_URL + 'playlists/' + playlist_id + '/tracks?fields=items(track(name, artists(name)))', headers=headers)"
   ]
  },
  {
   "cell_type": "code",
   "execution_count": 69,
   "id": "e15979dc",
   "metadata": {},
   "outputs": [
    {
     "data": {
      "text/plain": [
       "200"
      ]
     },
     "execution_count": 69,
     "metadata": {},
     "output_type": "execute_result"
    }
   ],
   "source": [
    "r.status_code"
   ]
  },
  {
   "cell_type": "code",
   "execution_count": 70,
   "id": "bdfecea2",
   "metadata": {},
   "outputs": [
    {
     "data": {
      "text/plain": [
       "{'items': [{'track': {'artists': [{'name': 'Haddaway'}],\n",
       "    'name': 'What Is Love - 7\" Mix'}},\n",
       "  {'track': {'artists': [{'name': 'Foo Fighters'}], 'name': 'Big Me'}},\n",
       "  {'track': {'artists': [{'name': 'Red Hot Chili Peppers'}],\n",
       "    'name': 'Under the Bridge'}},\n",
       "  {'track': {'artists': [{'name': 'The Prodigy'}], 'name': 'Breathe'}},\n",
       "  {'track': {'artists': [{'name': 'Red Hot Chili Peppers'}],\n",
       "    'name': 'Scar Tissue'}},\n",
       "  {'track': {'artists': [{'name': 'The All-American Rejects'}],\n",
       "    'name': 'Dirty Little Secret'}},\n",
       "  {'track': {'artists': [{'name': '2Pac'}, {'name': 'Talent'}],\n",
       "    'name': 'Changes'}},\n",
       "  {'track': {'artists': [{'name': 'U2'}],\n",
       "    'name': \"I Still Haven't Found What I'm Looking For\"}},\n",
       "  {'track': {'artists': [{'name': 'Melendi'}],\n",
       "    'name': 'Caminando por la vida'}},\n",
       "  {'track': {'artists': [{'name': 'Kiko y Shara'}, {'name': 'Shara'}],\n",
       "    'name': 'Adolescentes'}},\n",
       "  {'track': {'artists': [{'name': '2Baba'}], 'name': 'Appreciate It'}},\n",
       "  {'track': {'artists': [{'name': 'Queen'}], 'name': 'Bohemian Rhapsody'}},\n",
       "  {'track': {'artists': [{'name': 'Linkin Park'}],\n",
       "    'name': 'Points of Authority'}},\n",
       "  {'track': {'artists': [{'name': 'Bon Jovi'}],\n",
       "    'name': 'You Give Love A Bad Name'}},\n",
       "  {'track': {'artists': [{'name': 'Rose Royce'}],\n",
       "    'name': 'Wishing on a Star'}}]}"
      ]
     },
     "execution_count": 70,
     "metadata": {},
     "output_type": "execute_result"
    }
   ],
   "source": [
    "r = r.json()\n",
    "r"
   ]
  },
  {
   "cell_type": "code",
   "execution_count": 71,
   "id": "9465a7a6",
   "metadata": {},
   "outputs": [
    {
     "data": {
      "text/html": [
       "<div>\n",
       "<style scoped>\n",
       "    .dataframe tbody tr th:only-of-type {\n",
       "        vertical-align: middle;\n",
       "    }\n",
       "\n",
       "    .dataframe tbody tr th {\n",
       "        vertical-align: top;\n",
       "    }\n",
       "\n",
       "    .dataframe thead th {\n",
       "        text-align: right;\n",
       "    }\n",
       "</style>\n",
       "<table border=\"1\" class=\"dataframe\">\n",
       "  <thead>\n",
       "    <tr style=\"text-align: right;\">\n",
       "      <th></th>\n",
       "      <th>items</th>\n",
       "    </tr>\n",
       "  </thead>\n",
       "  <tbody>\n",
       "    <tr>\n",
       "      <th>0</th>\n",
       "      <td>{'track': {'artists': [{'name': 'Haddaway'}], ...</td>\n",
       "    </tr>\n",
       "    <tr>\n",
       "      <th>1</th>\n",
       "      <td>{'track': {'artists': [{'name': 'Foo Fighters'...</td>\n",
       "    </tr>\n",
       "    <tr>\n",
       "      <th>2</th>\n",
       "      <td>{'track': {'artists': [{'name': 'Red Hot Chili...</td>\n",
       "    </tr>\n",
       "    <tr>\n",
       "      <th>3</th>\n",
       "      <td>{'track': {'artists': [{'name': 'The Prodigy'}...</td>\n",
       "    </tr>\n",
       "    <tr>\n",
       "      <th>4</th>\n",
       "      <td>{'track': {'artists': [{'name': 'Red Hot Chili...</td>\n",
       "    </tr>\n",
       "    <tr>\n",
       "      <th>5</th>\n",
       "      <td>{'track': {'artists': [{'name': 'The All-Ameri...</td>\n",
       "    </tr>\n",
       "    <tr>\n",
       "      <th>6</th>\n",
       "      <td>{'track': {'artists': [{'name': '2Pac'}, {'nam...</td>\n",
       "    </tr>\n",
       "    <tr>\n",
       "      <th>7</th>\n",
       "      <td>{'track': {'artists': [{'name': 'U2'}], 'name'...</td>\n",
       "    </tr>\n",
       "    <tr>\n",
       "      <th>8</th>\n",
       "      <td>{'track': {'artists': [{'name': 'Melendi'}], '...</td>\n",
       "    </tr>\n",
       "    <tr>\n",
       "      <th>9</th>\n",
       "      <td>{'track': {'artists': [{'name': 'Kiko y Shara'...</td>\n",
       "    </tr>\n",
       "    <tr>\n",
       "      <th>10</th>\n",
       "      <td>{'track': {'artists': [{'name': '2Baba'}], 'na...</td>\n",
       "    </tr>\n",
       "    <tr>\n",
       "      <th>11</th>\n",
       "      <td>{'track': {'artists': [{'name': 'Queen'}], 'na...</td>\n",
       "    </tr>\n",
       "    <tr>\n",
       "      <th>12</th>\n",
       "      <td>{'track': {'artists': [{'name': 'Linkin Park'}...</td>\n",
       "    </tr>\n",
       "    <tr>\n",
       "      <th>13</th>\n",
       "      <td>{'track': {'artists': [{'name': 'Bon Jovi'}], ...</td>\n",
       "    </tr>\n",
       "    <tr>\n",
       "      <th>14</th>\n",
       "      <td>{'track': {'artists': [{'name': 'Rose Royce'}]...</td>\n",
       "    </tr>\n",
       "  </tbody>\n",
       "</table>\n",
       "</div>"
      ],
      "text/plain": [
       "                                                items\n",
       "0   {'track': {'artists': [{'name': 'Haddaway'}], ...\n",
       "1   {'track': {'artists': [{'name': 'Foo Fighters'...\n",
       "2   {'track': {'artists': [{'name': 'Red Hot Chili...\n",
       "3   {'track': {'artists': [{'name': 'The Prodigy'}...\n",
       "4   {'track': {'artists': [{'name': 'Red Hot Chili...\n",
       "5   {'track': {'artists': [{'name': 'The All-Ameri...\n",
       "6   {'track': {'artists': [{'name': '2Pac'}, {'nam...\n",
       "7   {'track': {'artists': [{'name': 'U2'}], 'name'...\n",
       "8   {'track': {'artists': [{'name': 'Melendi'}], '...\n",
       "9   {'track': {'artists': [{'name': 'Kiko y Shara'...\n",
       "10  {'track': {'artists': [{'name': '2Baba'}], 'na...\n",
       "11  {'track': {'artists': [{'name': 'Queen'}], 'na...\n",
       "12  {'track': {'artists': [{'name': 'Linkin Park'}...\n",
       "13  {'track': {'artists': [{'name': 'Bon Jovi'}], ...\n",
       "14  {'track': {'artists': [{'name': 'Rose Royce'}]..."
      ]
     },
     "execution_count": 71,
     "metadata": {},
     "output_type": "execute_result"
    }
   ],
   "source": [
    "df = pd.DataFrame(r)\n",
    "df"
   ]
  },
  {
   "cell_type": "code",
   "execution_count": 72,
   "id": "8206c1ac",
   "metadata": {},
   "outputs": [],
   "source": [
    "def flatten(data, col_list):\n",
    "    for column in col_list:\n",
    "        flattened = pd.DataFrame(dict(data[column])).transpose()\n",
    "        columns = [str(col) for col in flattened.columns]\n",
    "        flattened.columns = [column + '_' + colname for colname in columns]\n",
    "        data = pd.concat([data, flattened], axis=1)\n",
    "        data = data.drop(column, axis=1)\n",
    "    return data"
   ]
  },
  {
   "cell_type": "code",
   "execution_count": 73,
   "id": "85dbf314",
   "metadata": {},
   "outputs": [
    {
     "data": {
      "text/html": [
       "<div>\n",
       "<style scoped>\n",
       "    .dataframe tbody tr th:only-of-type {\n",
       "        vertical-align: middle;\n",
       "    }\n",
       "\n",
       "    .dataframe tbody tr th {\n",
       "        vertical-align: top;\n",
       "    }\n",
       "\n",
       "    .dataframe thead th {\n",
       "        text-align: right;\n",
       "    }\n",
       "</style>\n",
       "<table border=\"1\" class=\"dataframe\">\n",
       "  <thead>\n",
       "    <tr style=\"text-align: right;\">\n",
       "      <th></th>\n",
       "      <th>items_track</th>\n",
       "    </tr>\n",
       "  </thead>\n",
       "  <tbody>\n",
       "    <tr>\n",
       "      <th>0</th>\n",
       "      <td>{'artists': [{'name': 'Haddaway'}], 'name': 'W...</td>\n",
       "    </tr>\n",
       "    <tr>\n",
       "      <th>1</th>\n",
       "      <td>{'artists': [{'name': 'Foo Fighters'}], 'name'...</td>\n",
       "    </tr>\n",
       "    <tr>\n",
       "      <th>2</th>\n",
       "      <td>{'artists': [{'name': 'Red Hot Chili Peppers'}...</td>\n",
       "    </tr>\n",
       "    <tr>\n",
       "      <th>3</th>\n",
       "      <td>{'artists': [{'name': 'The Prodigy'}], 'name':...</td>\n",
       "    </tr>\n",
       "    <tr>\n",
       "      <th>4</th>\n",
       "      <td>{'artists': [{'name': 'Red Hot Chili Peppers'}...</td>\n",
       "    </tr>\n",
       "    <tr>\n",
       "      <th>5</th>\n",
       "      <td>{'artists': [{'name': 'The All-American Reject...</td>\n",
       "    </tr>\n",
       "    <tr>\n",
       "      <th>6</th>\n",
       "      <td>{'artists': [{'name': '2Pac'}, {'name': 'Talen...</td>\n",
       "    </tr>\n",
       "    <tr>\n",
       "      <th>7</th>\n",
       "      <td>{'artists': [{'name': 'U2'}], 'name': 'I Still...</td>\n",
       "    </tr>\n",
       "    <tr>\n",
       "      <th>8</th>\n",
       "      <td>{'artists': [{'name': 'Melendi'}], 'name': 'Ca...</td>\n",
       "    </tr>\n",
       "    <tr>\n",
       "      <th>9</th>\n",
       "      <td>{'artists': [{'name': 'Kiko y Shara'}, {'name'...</td>\n",
       "    </tr>\n",
       "    <tr>\n",
       "      <th>10</th>\n",
       "      <td>{'artists': [{'name': '2Baba'}], 'name': 'Appr...</td>\n",
       "    </tr>\n",
       "    <tr>\n",
       "      <th>11</th>\n",
       "      <td>{'artists': [{'name': 'Queen'}], 'name': 'Bohe...</td>\n",
       "    </tr>\n",
       "    <tr>\n",
       "      <th>12</th>\n",
       "      <td>{'artists': [{'name': 'Linkin Park'}], 'name':...</td>\n",
       "    </tr>\n",
       "    <tr>\n",
       "      <th>13</th>\n",
       "      <td>{'artists': [{'name': 'Bon Jovi'}], 'name': 'Y...</td>\n",
       "    </tr>\n",
       "    <tr>\n",
       "      <th>14</th>\n",
       "      <td>{'artists': [{'name': 'Rose Royce'}], 'name': ...</td>\n",
       "    </tr>\n",
       "  </tbody>\n",
       "</table>\n",
       "</div>"
      ],
      "text/plain": [
       "                                          items_track\n",
       "0   {'artists': [{'name': 'Haddaway'}], 'name': 'W...\n",
       "1   {'artists': [{'name': 'Foo Fighters'}], 'name'...\n",
       "2   {'artists': [{'name': 'Red Hot Chili Peppers'}...\n",
       "3   {'artists': [{'name': 'The Prodigy'}], 'name':...\n",
       "4   {'artists': [{'name': 'Red Hot Chili Peppers'}...\n",
       "5   {'artists': [{'name': 'The All-American Reject...\n",
       "6   {'artists': [{'name': '2Pac'}, {'name': 'Talen...\n",
       "7   {'artists': [{'name': 'U2'}], 'name': 'I Still...\n",
       "8   {'artists': [{'name': 'Melendi'}], 'name': 'Ca...\n",
       "9   {'artists': [{'name': 'Kiko y Shara'}, {'name'...\n",
       "10  {'artists': [{'name': '2Baba'}], 'name': 'Appr...\n",
       "11  {'artists': [{'name': 'Queen'}], 'name': 'Bohe...\n",
       "12  {'artists': [{'name': 'Linkin Park'}], 'name':...\n",
       "13  {'artists': [{'name': 'Bon Jovi'}], 'name': 'Y...\n",
       "14  {'artists': [{'name': 'Rose Royce'}], 'name': ..."
      ]
     },
     "execution_count": 73,
     "metadata": {},
     "output_type": "execute_result"
    }
   ],
   "source": [
    "flat_df = flatten(df, ['items'])\n",
    "flat_df"
   ]
  },
  {
   "cell_type": "code",
   "execution_count": 74,
   "id": "94de5009",
   "metadata": {},
   "outputs": [
    {
     "data": {
      "text/html": [
       "<div>\n",
       "<style scoped>\n",
       "    .dataframe tbody tr th:only-of-type {\n",
       "        vertical-align: middle;\n",
       "    }\n",
       "\n",
       "    .dataframe tbody tr th {\n",
       "        vertical-align: top;\n",
       "    }\n",
       "\n",
       "    .dataframe thead th {\n",
       "        text-align: right;\n",
       "    }\n",
       "</style>\n",
       "<table border=\"1\" class=\"dataframe\">\n",
       "  <thead>\n",
       "    <tr style=\"text-align: right;\">\n",
       "      <th></th>\n",
       "      <th>items_track_artists</th>\n",
       "      <th>items_track_name</th>\n",
       "    </tr>\n",
       "  </thead>\n",
       "  <tbody>\n",
       "    <tr>\n",
       "      <th>0</th>\n",
       "      <td>[{'name': 'Haddaway'}]</td>\n",
       "      <td>What Is Love - 7\" Mix</td>\n",
       "    </tr>\n",
       "    <tr>\n",
       "      <th>1</th>\n",
       "      <td>[{'name': 'Foo Fighters'}]</td>\n",
       "      <td>Big Me</td>\n",
       "    </tr>\n",
       "    <tr>\n",
       "      <th>2</th>\n",
       "      <td>[{'name': 'Red Hot Chili Peppers'}]</td>\n",
       "      <td>Under the Bridge</td>\n",
       "    </tr>\n",
       "    <tr>\n",
       "      <th>3</th>\n",
       "      <td>[{'name': 'The Prodigy'}]</td>\n",
       "      <td>Breathe</td>\n",
       "    </tr>\n",
       "    <tr>\n",
       "      <th>4</th>\n",
       "      <td>[{'name': 'Red Hot Chili Peppers'}]</td>\n",
       "      <td>Scar Tissue</td>\n",
       "    </tr>\n",
       "    <tr>\n",
       "      <th>5</th>\n",
       "      <td>[{'name': 'The All-American Rejects'}]</td>\n",
       "      <td>Dirty Little Secret</td>\n",
       "    </tr>\n",
       "    <tr>\n",
       "      <th>6</th>\n",
       "      <td>[{'name': '2Pac'}, {'name': 'Talent'}]</td>\n",
       "      <td>Changes</td>\n",
       "    </tr>\n",
       "    <tr>\n",
       "      <th>7</th>\n",
       "      <td>[{'name': 'U2'}]</td>\n",
       "      <td>I Still Haven't Found What I'm Looking For</td>\n",
       "    </tr>\n",
       "    <tr>\n",
       "      <th>8</th>\n",
       "      <td>[{'name': 'Melendi'}]</td>\n",
       "      <td>Caminando por la vida</td>\n",
       "    </tr>\n",
       "    <tr>\n",
       "      <th>9</th>\n",
       "      <td>[{'name': 'Kiko y Shara'}, {'name': 'Shara'}]</td>\n",
       "      <td>Adolescentes</td>\n",
       "    </tr>\n",
       "    <tr>\n",
       "      <th>10</th>\n",
       "      <td>[{'name': '2Baba'}]</td>\n",
       "      <td>Appreciate It</td>\n",
       "    </tr>\n",
       "    <tr>\n",
       "      <th>11</th>\n",
       "      <td>[{'name': 'Queen'}]</td>\n",
       "      <td>Bohemian Rhapsody</td>\n",
       "    </tr>\n",
       "    <tr>\n",
       "      <th>12</th>\n",
       "      <td>[{'name': 'Linkin Park'}]</td>\n",
       "      <td>Points of Authority</td>\n",
       "    </tr>\n",
       "    <tr>\n",
       "      <th>13</th>\n",
       "      <td>[{'name': 'Bon Jovi'}]</td>\n",
       "      <td>You Give Love A Bad Name</td>\n",
       "    </tr>\n",
       "    <tr>\n",
       "      <th>14</th>\n",
       "      <td>[{'name': 'Rose Royce'}]</td>\n",
       "      <td>Wishing on a Star</td>\n",
       "    </tr>\n",
       "  </tbody>\n",
       "</table>\n",
       "</div>"
      ],
      "text/plain": [
       "                              items_track_artists  \\\n",
       "0                          [{'name': 'Haddaway'}]   \n",
       "1                      [{'name': 'Foo Fighters'}]   \n",
       "2             [{'name': 'Red Hot Chili Peppers'}]   \n",
       "3                       [{'name': 'The Prodigy'}]   \n",
       "4             [{'name': 'Red Hot Chili Peppers'}]   \n",
       "5          [{'name': 'The All-American Rejects'}]   \n",
       "6          [{'name': '2Pac'}, {'name': 'Talent'}]   \n",
       "7                                [{'name': 'U2'}]   \n",
       "8                           [{'name': 'Melendi'}]   \n",
       "9   [{'name': 'Kiko y Shara'}, {'name': 'Shara'}]   \n",
       "10                            [{'name': '2Baba'}]   \n",
       "11                            [{'name': 'Queen'}]   \n",
       "12                      [{'name': 'Linkin Park'}]   \n",
       "13                         [{'name': 'Bon Jovi'}]   \n",
       "14                       [{'name': 'Rose Royce'}]   \n",
       "\n",
       "                              items_track_name  \n",
       "0                        What Is Love - 7\" Mix  \n",
       "1                                       Big Me  \n",
       "2                             Under the Bridge  \n",
       "3                                      Breathe  \n",
       "4                                  Scar Tissue  \n",
       "5                          Dirty Little Secret  \n",
       "6                                      Changes  \n",
       "7   I Still Haven't Found What I'm Looking For  \n",
       "8                        Caminando por la vida  \n",
       "9                                 Adolescentes  \n",
       "10                               Appreciate It  \n",
       "11                           Bohemian Rhapsody  \n",
       "12                         Points of Authority  \n",
       "13                    You Give Love A Bad Name  \n",
       "14                           Wishing on a Star  "
      ]
     },
     "execution_count": 74,
     "metadata": {},
     "output_type": "execute_result"
    }
   ],
   "source": [
    "flat_df = flatten(flat_df, ['items_track'])\n",
    "flat_df"
   ]
  },
  {
   "cell_type": "code",
   "execution_count": 75,
   "id": "96ef6eae",
   "metadata": {},
   "outputs": [
    {
     "ename": "ValueError",
     "evalue": "All arrays must be of the same length",
     "output_type": "error",
     "traceback": [
      "\u001b[1;31m---------------------------------------------------------------------------\u001b[0m",
      "\u001b[1;31mValueError\u001b[0m                                Traceback (most recent call last)",
      "\u001b[1;32m~\\AppData\\Local\\Temp/ipykernel_14156/2038920361.py\u001b[0m in \u001b[0;36m<module>\u001b[1;34m\u001b[0m\n\u001b[1;32m----> 1\u001b[1;33m \u001b[0mflat_df\u001b[0m \u001b[1;33m=\u001b[0m \u001b[0mflatten\u001b[0m\u001b[1;33m(\u001b[0m\u001b[0mflat_df\u001b[0m\u001b[1;33m,\u001b[0m \u001b[1;33m[\u001b[0m\u001b[1;34m'items_track_artists'\u001b[0m\u001b[1;33m]\u001b[0m\u001b[1;33m)\u001b[0m\u001b[1;33m\u001b[0m\u001b[1;33m\u001b[0m\u001b[0m\n\u001b[0m\u001b[0;32m      2\u001b[0m \u001b[0mflat_df\u001b[0m\u001b[1;33m\u001b[0m\u001b[1;33m\u001b[0m\u001b[0m\n",
      "\u001b[1;32m~\\AppData\\Local\\Temp/ipykernel_14156/1413827644.py\u001b[0m in \u001b[0;36mflatten\u001b[1;34m(data, col_list)\u001b[0m\n\u001b[0;32m      1\u001b[0m \u001b[1;32mdef\u001b[0m \u001b[0mflatten\u001b[0m\u001b[1;33m(\u001b[0m\u001b[0mdata\u001b[0m\u001b[1;33m,\u001b[0m \u001b[0mcol_list\u001b[0m\u001b[1;33m)\u001b[0m\u001b[1;33m:\u001b[0m\u001b[1;33m\u001b[0m\u001b[1;33m\u001b[0m\u001b[0m\n\u001b[0;32m      2\u001b[0m     \u001b[1;32mfor\u001b[0m \u001b[0mcolumn\u001b[0m \u001b[1;32min\u001b[0m \u001b[0mcol_list\u001b[0m\u001b[1;33m:\u001b[0m\u001b[1;33m\u001b[0m\u001b[1;33m\u001b[0m\u001b[0m\n\u001b[1;32m----> 3\u001b[1;33m         \u001b[0mflattened\u001b[0m \u001b[1;33m=\u001b[0m \u001b[0mpd\u001b[0m\u001b[1;33m.\u001b[0m\u001b[0mDataFrame\u001b[0m\u001b[1;33m(\u001b[0m\u001b[0mdict\u001b[0m\u001b[1;33m(\u001b[0m\u001b[0mdata\u001b[0m\u001b[1;33m[\u001b[0m\u001b[0mcolumn\u001b[0m\u001b[1;33m]\u001b[0m\u001b[1;33m)\u001b[0m\u001b[1;33m)\u001b[0m\u001b[1;33m.\u001b[0m\u001b[0mtranspose\u001b[0m\u001b[1;33m(\u001b[0m\u001b[1;33m)\u001b[0m\u001b[1;33m\u001b[0m\u001b[1;33m\u001b[0m\u001b[0m\n\u001b[0m\u001b[0;32m      4\u001b[0m         \u001b[0mcolumns\u001b[0m \u001b[1;33m=\u001b[0m \u001b[1;33m[\u001b[0m\u001b[0mstr\u001b[0m\u001b[1;33m(\u001b[0m\u001b[0mcol\u001b[0m\u001b[1;33m)\u001b[0m \u001b[1;32mfor\u001b[0m \u001b[0mcol\u001b[0m \u001b[1;32min\u001b[0m \u001b[0mflattened\u001b[0m\u001b[1;33m.\u001b[0m\u001b[0mcolumns\u001b[0m\u001b[1;33m]\u001b[0m\u001b[1;33m\u001b[0m\u001b[1;33m\u001b[0m\u001b[0m\n\u001b[0;32m      5\u001b[0m         \u001b[0mflattened\u001b[0m\u001b[1;33m.\u001b[0m\u001b[0mcolumns\u001b[0m \u001b[1;33m=\u001b[0m \u001b[1;33m[\u001b[0m\u001b[0mcolumn\u001b[0m \u001b[1;33m+\u001b[0m \u001b[1;34m'_'\u001b[0m \u001b[1;33m+\u001b[0m \u001b[0mcolname\u001b[0m \u001b[1;32mfor\u001b[0m \u001b[0mcolname\u001b[0m \u001b[1;32min\u001b[0m \u001b[0mcolumns\u001b[0m\u001b[1;33m]\u001b[0m\u001b[1;33m\u001b[0m\u001b[1;33m\u001b[0m\u001b[0m\n",
      "\u001b[1;32m~\\anaconda3\\lib\\site-packages\\pandas\\core\\frame.py\u001b[0m in \u001b[0;36m__init__\u001b[1;34m(self, data, index, columns, dtype, copy)\u001b[0m\n\u001b[0;32m    612\u001b[0m         \u001b[1;32melif\u001b[0m \u001b[0misinstance\u001b[0m\u001b[1;33m(\u001b[0m\u001b[0mdata\u001b[0m\u001b[1;33m,\u001b[0m \u001b[0mdict\u001b[0m\u001b[1;33m)\u001b[0m\u001b[1;33m:\u001b[0m\u001b[1;33m\u001b[0m\u001b[1;33m\u001b[0m\u001b[0m\n\u001b[0;32m    613\u001b[0m             \u001b[1;31m# GH#38939 de facto copy defaults to False only in non-dict cases\u001b[0m\u001b[1;33m\u001b[0m\u001b[1;33m\u001b[0m\u001b[0m\n\u001b[1;32m--> 614\u001b[1;33m             \u001b[0mmgr\u001b[0m \u001b[1;33m=\u001b[0m \u001b[0mdict_to_mgr\u001b[0m\u001b[1;33m(\u001b[0m\u001b[0mdata\u001b[0m\u001b[1;33m,\u001b[0m \u001b[0mindex\u001b[0m\u001b[1;33m,\u001b[0m \u001b[0mcolumns\u001b[0m\u001b[1;33m,\u001b[0m \u001b[0mdtype\u001b[0m\u001b[1;33m=\u001b[0m\u001b[0mdtype\u001b[0m\u001b[1;33m,\u001b[0m \u001b[0mcopy\u001b[0m\u001b[1;33m=\u001b[0m\u001b[0mcopy\u001b[0m\u001b[1;33m,\u001b[0m \u001b[0mtyp\u001b[0m\u001b[1;33m=\u001b[0m\u001b[0mmanager\u001b[0m\u001b[1;33m)\u001b[0m\u001b[1;33m\u001b[0m\u001b[1;33m\u001b[0m\u001b[0m\n\u001b[0m\u001b[0;32m    615\u001b[0m         \u001b[1;32melif\u001b[0m \u001b[0misinstance\u001b[0m\u001b[1;33m(\u001b[0m\u001b[0mdata\u001b[0m\u001b[1;33m,\u001b[0m \u001b[0mma\u001b[0m\u001b[1;33m.\u001b[0m\u001b[0mMaskedArray\u001b[0m\u001b[1;33m)\u001b[0m\u001b[1;33m:\u001b[0m\u001b[1;33m\u001b[0m\u001b[1;33m\u001b[0m\u001b[0m\n\u001b[0;32m    616\u001b[0m             \u001b[1;32mimport\u001b[0m \u001b[0mnumpy\u001b[0m\u001b[1;33m.\u001b[0m\u001b[0mma\u001b[0m\u001b[1;33m.\u001b[0m\u001b[0mmrecords\u001b[0m \u001b[1;32mas\u001b[0m \u001b[0mmrecords\u001b[0m\u001b[1;33m\u001b[0m\u001b[1;33m\u001b[0m\u001b[0m\n",
      "\u001b[1;32m~\\anaconda3\\lib\\site-packages\\pandas\\core\\internals\\construction.py\u001b[0m in \u001b[0;36mdict_to_mgr\u001b[1;34m(data, index, columns, dtype, typ, copy)\u001b[0m\n\u001b[0;32m    462\u001b[0m         \u001b[1;31m# TODO: can we get rid of the dt64tz special case above?\u001b[0m\u001b[1;33m\u001b[0m\u001b[1;33m\u001b[0m\u001b[0m\n\u001b[0;32m    463\u001b[0m \u001b[1;33m\u001b[0m\u001b[0m\n\u001b[1;32m--> 464\u001b[1;33m     return arrays_to_mgr(\n\u001b[0m\u001b[0;32m    465\u001b[0m         \u001b[0marrays\u001b[0m\u001b[1;33m,\u001b[0m \u001b[0mdata_names\u001b[0m\u001b[1;33m,\u001b[0m \u001b[0mindex\u001b[0m\u001b[1;33m,\u001b[0m \u001b[0mcolumns\u001b[0m\u001b[1;33m,\u001b[0m \u001b[0mdtype\u001b[0m\u001b[1;33m=\u001b[0m\u001b[0mdtype\u001b[0m\u001b[1;33m,\u001b[0m \u001b[0mtyp\u001b[0m\u001b[1;33m=\u001b[0m\u001b[0mtyp\u001b[0m\u001b[1;33m,\u001b[0m \u001b[0mconsolidate\u001b[0m\u001b[1;33m=\u001b[0m\u001b[0mcopy\u001b[0m\u001b[1;33m\u001b[0m\u001b[1;33m\u001b[0m\u001b[0m\n\u001b[0;32m    466\u001b[0m     )\n",
      "\u001b[1;32m~\\anaconda3\\lib\\site-packages\\pandas\\core\\internals\\construction.py\u001b[0m in \u001b[0;36marrays_to_mgr\u001b[1;34m(arrays, arr_names, index, columns, dtype, verify_integrity, typ, consolidate)\u001b[0m\n\u001b[0;32m    117\u001b[0m         \u001b[1;31m# figure out the index, if necessary\u001b[0m\u001b[1;33m\u001b[0m\u001b[1;33m\u001b[0m\u001b[0m\n\u001b[0;32m    118\u001b[0m         \u001b[1;32mif\u001b[0m \u001b[0mindex\u001b[0m \u001b[1;32mis\u001b[0m \u001b[1;32mNone\u001b[0m\u001b[1;33m:\u001b[0m\u001b[1;33m\u001b[0m\u001b[1;33m\u001b[0m\u001b[0m\n\u001b[1;32m--> 119\u001b[1;33m             \u001b[0mindex\u001b[0m \u001b[1;33m=\u001b[0m \u001b[0m_extract_index\u001b[0m\u001b[1;33m(\u001b[0m\u001b[0marrays\u001b[0m\u001b[1;33m)\u001b[0m\u001b[1;33m\u001b[0m\u001b[1;33m\u001b[0m\u001b[0m\n\u001b[0m\u001b[0;32m    120\u001b[0m         \u001b[1;32melse\u001b[0m\u001b[1;33m:\u001b[0m\u001b[1;33m\u001b[0m\u001b[1;33m\u001b[0m\u001b[0m\n\u001b[0;32m    121\u001b[0m             \u001b[0mindex\u001b[0m \u001b[1;33m=\u001b[0m \u001b[0mensure_index\u001b[0m\u001b[1;33m(\u001b[0m\u001b[0mindex\u001b[0m\u001b[1;33m)\u001b[0m\u001b[1;33m\u001b[0m\u001b[1;33m\u001b[0m\u001b[0m\n",
      "\u001b[1;32m~\\anaconda3\\lib\\site-packages\\pandas\\core\\internals\\construction.py\u001b[0m in \u001b[0;36m_extract_index\u001b[1;34m(data)\u001b[0m\n\u001b[0;32m    633\u001b[0m             \u001b[0mlengths\u001b[0m \u001b[1;33m=\u001b[0m \u001b[0mlist\u001b[0m\u001b[1;33m(\u001b[0m\u001b[0mset\u001b[0m\u001b[1;33m(\u001b[0m\u001b[0mraw_lengths\u001b[0m\u001b[1;33m)\u001b[0m\u001b[1;33m)\u001b[0m\u001b[1;33m\u001b[0m\u001b[1;33m\u001b[0m\u001b[0m\n\u001b[0;32m    634\u001b[0m             \u001b[1;32mif\u001b[0m \u001b[0mlen\u001b[0m\u001b[1;33m(\u001b[0m\u001b[0mlengths\u001b[0m\u001b[1;33m)\u001b[0m \u001b[1;33m>\u001b[0m \u001b[1;36m1\u001b[0m\u001b[1;33m:\u001b[0m\u001b[1;33m\u001b[0m\u001b[1;33m\u001b[0m\u001b[0m\n\u001b[1;32m--> 635\u001b[1;33m                 \u001b[1;32mraise\u001b[0m \u001b[0mValueError\u001b[0m\u001b[1;33m(\u001b[0m\u001b[1;34m\"All arrays must be of the same length\"\u001b[0m\u001b[1;33m)\u001b[0m\u001b[1;33m\u001b[0m\u001b[1;33m\u001b[0m\u001b[0m\n\u001b[0m\u001b[0;32m    636\u001b[0m \u001b[1;33m\u001b[0m\u001b[0m\n\u001b[0;32m    637\u001b[0m             \u001b[1;32mif\u001b[0m \u001b[0mhave_dicts\u001b[0m\u001b[1;33m:\u001b[0m\u001b[1;33m\u001b[0m\u001b[1;33m\u001b[0m\u001b[0m\n",
      "\u001b[1;31mValueError\u001b[0m: All arrays must be of the same length"
     ]
    }
   ],
   "source": [
    "flat_df = flatten(flat_df, ['items_track_artists'])\n",
    "flat_df"
   ]
  },
  {
   "cell_type": "markdown",
   "id": "ff1d3903",
   "metadata": {},
   "source": [
    "This does not work: some songs have more than one artist name and the column for the artists thus ends up with more rows than the one with the song names."
   ]
  },
  {
   "cell_type": "markdown",
   "id": "f15b1741",
   "metadata": {},
   "source": [
    "I will make a function to try to isolate the rows where there is more than one artist."
   ]
  },
  {
   "cell_type": "code",
   "execution_count": 80,
   "id": "f14a4a03",
   "metadata": {},
   "outputs": [
    {
     "data": {
      "text/plain": [
       "1"
      ]
     },
     "execution_count": 80,
     "metadata": {},
     "output_type": "execute_result"
    }
   ],
   "source": [
    "len(flat_df['items_track_artists'][0])"
   ]
  },
  {
   "cell_type": "code",
   "execution_count": 89,
   "id": "e4fc5569",
   "metadata": {},
   "outputs": [
    {
     "data": {
      "text/plain": [
       "2"
      ]
     },
     "execution_count": 89,
     "metadata": {},
     "output_type": "execute_result"
    }
   ],
   "source": [
    "len(flat_df['items_track_artists'][6])"
   ]
  },
  {
   "cell_type": "code",
   "execution_count": 88,
   "id": "b95c9b71",
   "metadata": {},
   "outputs": [
    {
     "data": {
      "text/plain": [
       "'Haddaway'"
      ]
     },
     "execution_count": 88,
     "metadata": {},
     "output_type": "execute_result"
    }
   ],
   "source": [
    "flat_df['items_track_artists'][0][0]['name']"
   ]
  },
  {
   "cell_type": "code",
   "execution_count": 103,
   "id": "50257bd2",
   "metadata": {},
   "outputs": [
    {
     "data": {
      "text/plain": [
       "['Haddaway',\n",
       " 'Foo Fighters',\n",
       " 'Red Hot Chili Peppers',\n",
       " 'The Prodigy',\n",
       " 'Red Hot Chili Peppers',\n",
       " 'The All-American Rejects',\n",
       " '2Pac, Talent',\n",
       " 'U2',\n",
       " 'Melendi',\n",
       " 'Kiko y Shara, Shara',\n",
       " '2Baba',\n",
       " 'Queen',\n",
       " 'Linkin Park',\n",
       " 'Bon Jovi',\n",
       " 'Rose Royce']"
      ]
     },
     "execution_count": 103,
     "metadata": {},
     "output_type": "execute_result"
    }
   ],
   "source": [
    "artists = []\n",
    "\n",
    "for i in range(len(flat_df['items_track_name'])):\n",
    "    artist = flat_df['items_track_artists'][i][0]['name']\n",
    "    if len(flat_df['items_track_artists'][i]) > 1:\n",
    "        for j in range(1, len(flat_df['items_track_artists'][i])):\n",
    "            artist += ', ' + flat_df['items_track_artists'][i][j]['name']\n",
    "\n",
    "    artists.append(artist)\n",
    "\n",
    "artists"
   ]
  },
  {
   "cell_type": "code",
   "execution_count": 107,
   "id": "2a3c274f",
   "metadata": {},
   "outputs": [
    {
     "data": {
      "text/html": [
       "<div>\n",
       "<style scoped>\n",
       "    .dataframe tbody tr th:only-of-type {\n",
       "        vertical-align: middle;\n",
       "    }\n",
       "\n",
       "    .dataframe tbody tr th {\n",
       "        vertical-align: top;\n",
       "    }\n",
       "\n",
       "    .dataframe thead th {\n",
       "        text-align: right;\n",
       "    }\n",
       "</style>\n",
       "<table border=\"1\" class=\"dataframe\">\n",
       "  <thead>\n",
       "    <tr style=\"text-align: right;\">\n",
       "      <th></th>\n",
       "      <th>Song Name</th>\n",
       "      <th>Artist(s)</th>\n",
       "    </tr>\n",
       "  </thead>\n",
       "  <tbody>\n",
       "    <tr>\n",
       "      <th>0</th>\n",
       "      <td>What Is Love - 7\" Mix</td>\n",
       "      <td>Haddaway</td>\n",
       "    </tr>\n",
       "    <tr>\n",
       "      <th>1</th>\n",
       "      <td>Big Me</td>\n",
       "      <td>Foo Fighters</td>\n",
       "    </tr>\n",
       "    <tr>\n",
       "      <th>2</th>\n",
       "      <td>Under the Bridge</td>\n",
       "      <td>Red Hot Chili Peppers</td>\n",
       "    </tr>\n",
       "    <tr>\n",
       "      <th>3</th>\n",
       "      <td>Breathe</td>\n",
       "      <td>The Prodigy</td>\n",
       "    </tr>\n",
       "    <tr>\n",
       "      <th>4</th>\n",
       "      <td>Scar Tissue</td>\n",
       "      <td>Red Hot Chili Peppers</td>\n",
       "    </tr>\n",
       "    <tr>\n",
       "      <th>5</th>\n",
       "      <td>Dirty Little Secret</td>\n",
       "      <td>The All-American Rejects</td>\n",
       "    </tr>\n",
       "    <tr>\n",
       "      <th>6</th>\n",
       "      <td>Changes</td>\n",
       "      <td>2Pac, Talent</td>\n",
       "    </tr>\n",
       "    <tr>\n",
       "      <th>7</th>\n",
       "      <td>I Still Haven't Found What I'm Looking For</td>\n",
       "      <td>U2</td>\n",
       "    </tr>\n",
       "    <tr>\n",
       "      <th>8</th>\n",
       "      <td>Caminando por la vida</td>\n",
       "      <td>Melendi</td>\n",
       "    </tr>\n",
       "    <tr>\n",
       "      <th>9</th>\n",
       "      <td>Adolescentes</td>\n",
       "      <td>Kiko y Shara, Shara</td>\n",
       "    </tr>\n",
       "    <tr>\n",
       "      <th>10</th>\n",
       "      <td>Appreciate It</td>\n",
       "      <td>2Baba</td>\n",
       "    </tr>\n",
       "    <tr>\n",
       "      <th>11</th>\n",
       "      <td>Bohemian Rhapsody</td>\n",
       "      <td>Queen</td>\n",
       "    </tr>\n",
       "    <tr>\n",
       "      <th>12</th>\n",
       "      <td>Points of Authority</td>\n",
       "      <td>Linkin Park</td>\n",
       "    </tr>\n",
       "    <tr>\n",
       "      <th>13</th>\n",
       "      <td>You Give Love A Bad Name</td>\n",
       "      <td>Bon Jovi</td>\n",
       "    </tr>\n",
       "    <tr>\n",
       "      <th>14</th>\n",
       "      <td>Wishing on a Star</td>\n",
       "      <td>Rose Royce</td>\n",
       "    </tr>\n",
       "  </tbody>\n",
       "</table>\n",
       "</div>"
      ],
      "text/plain": [
       "                                     Song Name                 Artist(s)\n",
       "0                        What Is Love - 7\" Mix                  Haddaway\n",
       "1                                       Big Me              Foo Fighters\n",
       "2                             Under the Bridge     Red Hot Chili Peppers\n",
       "3                                      Breathe               The Prodigy\n",
       "4                                  Scar Tissue     Red Hot Chili Peppers\n",
       "5                          Dirty Little Secret  The All-American Rejects\n",
       "6                                      Changes              2Pac, Talent\n",
       "7   I Still Haven't Found What I'm Looking For                        U2\n",
       "8                        Caminando por la vida                   Melendi\n",
       "9                                 Adolescentes       Kiko y Shara, Shara\n",
       "10                               Appreciate It                     2Baba\n",
       "11                           Bohemian Rhapsody                     Queen\n",
       "12                         Points of Authority               Linkin Park\n",
       "13                    You Give Love A Bad Name                  Bon Jovi\n",
       "14                           Wishing on a Star                Rose Royce"
      ]
     },
     "execution_count": 107,
     "metadata": {},
     "output_type": "execute_result"
    }
   ],
   "source": [
    "playlist = pd.DataFrame(artists, flat_df['items_track_name']).reset_index()\n",
    "playlist.columns = ['Song Name', 'Artist(s)']\n",
    "playlist"
   ]
  },
  {
   "cell_type": "markdown",
   "id": "b3d6e757",
   "metadata": {},
   "source": [
    "Let's make a clean function to get the song list from any spotify Playlist."
   ]
  },
  {
   "cell_type": "code",
   "execution_count": 113,
   "id": "83aaec29",
   "metadata": {},
   "outputs": [],
   "source": [
    "def get_playlist_info(plist_id):\n",
    "    r = requests.get(BASE_URL + 'playlists/' + plist_id + '/tracks?fields=items(track(name, artists(name)))', headers=headers).json()\n",
    "    df = pd.DataFrame(r)\n",
    "    df = flatten(df, ['items'])\n",
    "    df = flatten(df, ['items_track'])\n",
    "    artists = []\n",
    "    for i in range(len(df['items_track_name'])):\n",
    "        artist = df['items_track_artists'][i][0]['name']\n",
    "        if len(df['items_track_artists'][i]) > 1:\n",
    "            for j in range(1, len(df['items_track_artists'][i])):\n",
    "                artist += ', ' + df['items_track_artists'][i][j]['name']\n",
    "        artists.append(artist)\n",
    "    playlist = pd.DataFrame(artists, df['items_track_name']).reset_index()\n",
    "    playlist.columns = ['Song Name', 'Artist(s)']\n",
    "    return playlist    "
   ]
  },
  {
   "cell_type": "code",
   "execution_count": 114,
   "id": "1faab376",
   "metadata": {},
   "outputs": [
    {
     "data": {
      "text/html": [
       "<div>\n",
       "<style scoped>\n",
       "    .dataframe tbody tr th:only-of-type {\n",
       "        vertical-align: middle;\n",
       "    }\n",
       "\n",
       "    .dataframe tbody tr th {\n",
       "        vertical-align: top;\n",
       "    }\n",
       "\n",
       "    .dataframe thead th {\n",
       "        text-align: right;\n",
       "    }\n",
       "</style>\n",
       "<table border=\"1\" class=\"dataframe\">\n",
       "  <thead>\n",
       "    <tr style=\"text-align: right;\">\n",
       "      <th></th>\n",
       "      <th>Song Name</th>\n",
       "      <th>Artist(s)</th>\n",
       "    </tr>\n",
       "  </thead>\n",
       "  <tbody>\n",
       "    <tr>\n",
       "      <th>0</th>\n",
       "      <td>Sonate No. 11 en La Majeur, « Marche turque »,...</td>\n",
       "      <td>Wolfgang Amadeus Mozart, Aldo Ciccolini</td>\n",
       "    </tr>\n",
       "    <tr>\n",
       "      <th>1</th>\n",
       "      <td>Violin Sonata in E Minor, K. 304/300c: II. Tem...</td>\n",
       "      <td>Wolfgang Amadeus Mozart, Jonas Vitaud, Mi-Sa Yang</td>\n",
       "    </tr>\n",
       "    <tr>\n",
       "      <th>2</th>\n",
       "      <td>Symphony No. 25 in G Minor K. 183/K. 173dB: I....</td>\n",
       "      <td>Wolfgang Amadeus Mozart, Sir Neville Marriner,...</td>\n",
       "    </tr>\n",
       "    <tr>\n",
       "      <th>3</th>\n",
       "      <td>Symphony No. 40 in G Minor, K. 550: I. Molto a...</td>\n",
       "      <td>Wolfgang Amadeus Mozart, Heinrich Schiff, Nort...</td>\n",
       "    </tr>\n",
       "    <tr>\n",
       "      <th>4</th>\n",
       "      <td>12 Variations in C Major on \"Ah, vous dirai-je...</td>\n",
       "      <td>Wolfgang Amadeus Mozart, Lang Lang</td>\n",
       "    </tr>\n",
       "    <tr>\n",
       "      <th>5</th>\n",
       "      <td>Serenade No. 13 in G Major, K. 525 \"Eine klein...</td>\n",
       "      <td>Wolfgang Amadeus Mozart, La Grande Écurie et l...</td>\n",
       "    </tr>\n",
       "    <tr>\n",
       "      <th>6</th>\n",
       "      <td>Bastien und Bastienne, K. 50</td>\n",
       "      <td>Wolfgang Amadeus Mozart, Capella Istropolitana...</td>\n",
       "    </tr>\n",
       "    <tr>\n",
       "      <th>7</th>\n",
       "      <td>Concerto for Flute, Harp, and Orchestra in C M...</td>\n",
       "      <td>Wolfgang Amadeus Mozart, Susan Palma-Nidel, Na...</td>\n",
       "    </tr>\n",
       "    <tr>\n",
       "      <th>8</th>\n",
       "      <td>Requiem, K. 626: Kyrie</td>\n",
       "      <td>Wolfgang Amadeus Mozart, Academy of Ancient Mu...</td>\n",
       "    </tr>\n",
       "    <tr>\n",
       "      <th>9</th>\n",
       "      <td>ヴァイオリン・ソナタ 変ホ長調, K. 380: 3. Rondo: Allegro</td>\n",
       "      <td>Wolfgang Amadeus Mozart, Rieko Suzuki, Akira W...</td>\n",
       "    </tr>\n",
       "    <tr>\n",
       "      <th>10</th>\n",
       "      <td>Air de la Reine de la nuit (Extrait de la Flût...</td>\n",
       "      <td>Wolfgang Amadeus Mozart, Orchestre Paul Kuentz...</td>\n",
       "    </tr>\n",
       "  </tbody>\n",
       "</table>\n",
       "</div>"
      ],
      "text/plain": [
       "                                            Song Name  \\\n",
       "0   Sonate No. 11 en La Majeur, « Marche turque »,...   \n",
       "1   Violin Sonata in E Minor, K. 304/300c: II. Tem...   \n",
       "2   Symphony No. 25 in G Minor K. 183/K. 173dB: I....   \n",
       "3   Symphony No. 40 in G Minor, K. 550: I. Molto a...   \n",
       "4   12 Variations in C Major on \"Ah, vous dirai-je...   \n",
       "5   Serenade No. 13 in G Major, K. 525 \"Eine klein...   \n",
       "6                        Bastien und Bastienne, K. 50   \n",
       "7   Concerto for Flute, Harp, and Orchestra in C M...   \n",
       "8                              Requiem, K. 626: Kyrie   \n",
       "9          ヴァイオリン・ソナタ 変ホ長調, K. 380: 3. Rondo: Allegro   \n",
       "10  Air de la Reine de la nuit (Extrait de la Flût...   \n",
       "\n",
       "                                            Artist(s)  \n",
       "0             Wolfgang Amadeus Mozart, Aldo Ciccolini  \n",
       "1   Wolfgang Amadeus Mozart, Jonas Vitaud, Mi-Sa Yang  \n",
       "2   Wolfgang Amadeus Mozart, Sir Neville Marriner,...  \n",
       "3   Wolfgang Amadeus Mozart, Heinrich Schiff, Nort...  \n",
       "4                  Wolfgang Amadeus Mozart, Lang Lang  \n",
       "5   Wolfgang Amadeus Mozart, La Grande Écurie et l...  \n",
       "6   Wolfgang Amadeus Mozart, Capella Istropolitana...  \n",
       "7   Wolfgang Amadeus Mozart, Susan Palma-Nidel, Na...  \n",
       "8   Wolfgang Amadeus Mozart, Academy of Ancient Mu...  \n",
       "9   Wolfgang Amadeus Mozart, Rieko Suzuki, Akira W...  \n",
       "10  Wolfgang Amadeus Mozart, Orchestre Paul Kuentz...  "
      ]
     },
     "execution_count": 114,
     "metadata": {},
     "output_type": "execute_result"
    }
   ],
   "source": [
    "df_test = get_playlist_info('6Yin3UZ5nGf0XePvJ9toAO')\n",
    "df_test"
   ]
  },
  {
   "cell_type": "code",
   "execution_count": 116,
   "id": "7606d29a",
   "metadata": {},
   "outputs": [
    {
     "data": {
      "text/html": [
       "<div>\n",
       "<style scoped>\n",
       "    .dataframe tbody tr th:only-of-type {\n",
       "        vertical-align: middle;\n",
       "    }\n",
       "\n",
       "    .dataframe tbody tr th {\n",
       "        vertical-align: top;\n",
       "    }\n",
       "\n",
       "    .dataframe thead th {\n",
       "        text-align: right;\n",
       "    }\n",
       "</style>\n",
       "<table border=\"1\" class=\"dataframe\">\n",
       "  <thead>\n",
       "    <tr style=\"text-align: right;\">\n",
       "      <th></th>\n",
       "      <th>Song Name</th>\n",
       "      <th>Artist(s)</th>\n",
       "    </tr>\n",
       "  </thead>\n",
       "  <tbody>\n",
       "    <tr>\n",
       "      <th>0</th>\n",
       "      <td>Where Everybody Knows Your Name</td>\n",
       "      <td>Sophia</td>\n",
       "    </tr>\n",
       "    <tr>\n",
       "      <th>1</th>\n",
       "      <td>How Do You Feel</td>\n",
       "      <td>Nick Klyne</td>\n",
       "    </tr>\n",
       "    <tr>\n",
       "      <th>2</th>\n",
       "      <td>Lean On Me</td>\n",
       "      <td>Blackbird</td>\n",
       "    </tr>\n",
       "    <tr>\n",
       "      <th>3</th>\n",
       "      <td>White Roses</td>\n",
       "      <td>Joe Buck</td>\n",
       "    </tr>\n",
       "    <tr>\n",
       "      <th>4</th>\n",
       "      <td>Perfect Day</td>\n",
       "      <td>Mell &amp; Vintage Future</td>\n",
       "    </tr>\n",
       "    <tr>\n",
       "      <th>...</th>\n",
       "      <td>...</td>\n",
       "      <td>...</td>\n",
       "    </tr>\n",
       "    <tr>\n",
       "      <th>95</th>\n",
       "      <td>Don't You</td>\n",
       "      <td>Marike Jager, Ron Sexsmith</td>\n",
       "    </tr>\n",
       "    <tr>\n",
       "      <th>96</th>\n",
       "      <td>In The Middle</td>\n",
       "      <td>Mad3 for M3, Cris Cab</td>\n",
       "    </tr>\n",
       "    <tr>\n",
       "      <th>97</th>\n",
       "      <td>Cards</td>\n",
       "      <td>Sabrina Starke</td>\n",
       "    </tr>\n",
       "    <tr>\n",
       "      <th>98</th>\n",
       "      <td>Old Records - Acoustic</td>\n",
       "      <td>Jacqueline Govaert</td>\n",
       "    </tr>\n",
       "    <tr>\n",
       "      <th>99</th>\n",
       "      <td>Wonderful Life</td>\n",
       "      <td>Katie Melua</td>\n",
       "    </tr>\n",
       "  </tbody>\n",
       "</table>\n",
       "<p>100 rows × 2 columns</p>\n",
       "</div>"
      ],
      "text/plain": [
       "                          Song Name                   Artist(s)\n",
       "0   Where Everybody Knows Your Name                      Sophia\n",
       "1                   How Do You Feel                  Nick Klyne\n",
       "2                        Lean On Me                   Blackbird\n",
       "3                       White Roses                    Joe Buck\n",
       "4                       Perfect Day       Mell & Vintage Future\n",
       "..                              ...                         ...\n",
       "95                        Don't You  Marike Jager, Ron Sexsmith\n",
       "96                    In The Middle       Mad3 for M3, Cris Cab\n",
       "97                            Cards              Sabrina Starke\n",
       "98           Old Records - Acoustic          Jacqueline Govaert\n",
       "99                   Wonderful Life                 Katie Melua\n",
       "\n",
       "[100 rows x 2 columns]"
      ]
     },
     "execution_count": 116,
     "metadata": {},
     "output_type": "execute_result"
    }
   ],
   "source": [
    "df_test_2 = get_playlist_info('37i9dQZF1DWYPwGkJoztcR')\n",
    "df_test_2"
   ]
  },
  {
   "cell_type": "markdown",
   "id": "daf03fa4",
   "metadata": {},
   "source": [
    "## it works !! "
   ]
  },
  {
   "cell_type": "code",
   "execution_count": null,
   "id": "bc6c35a9",
   "metadata": {},
   "outputs": [],
   "source": []
  }
 ],
 "metadata": {
  "kernelspec": {
   "display_name": "Python 3 (ipykernel)",
   "language": "python",
   "name": "python3"
  },
  "language_info": {
   "codemirror_mode": {
    "name": "ipython",
    "version": 3
   },
   "file_extension": ".py",
   "mimetype": "text/x-python",
   "name": "python",
   "nbconvert_exporter": "python",
   "pygments_lexer": "ipython3",
   "version": "3.9.7"
  }
 },
 "nbformat": 4,
 "nbformat_minor": 5
}
