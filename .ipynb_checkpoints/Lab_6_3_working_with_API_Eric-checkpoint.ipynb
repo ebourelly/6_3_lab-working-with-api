{
 "cells": [
  {
   "cell_type": "code",
   "execution_count": 1,
   "id": "e9eaec99",
   "metadata": {},
   "outputs": [],
   "source": [
    "import requests\n",
    "import json\n",
    "import pandas as pd\n",
    "import getpass\n",
    "import datetime"
   ]
  },
  {
   "cell_type": "markdown",
   "id": "e4fd78e4",
   "metadata": {},
   "source": [
    "https://www.youtube.com/watch?v=xdq6Gz33khQ&ab_channel=CodingEntrepreneurs"
   ]
  },
  {
   "cell_type": "code",
   "execution_count": 2,
   "id": "987fcae3",
   "metadata": {},
   "outputs": [],
   "source": [
    "import base64"
   ]
  },
  {
   "cell_type": "code",
   "execution_count": 3,
   "id": "6af3fef3",
   "metadata": {},
   "outputs": [
    {
     "name": "stdout",
     "output_type": "stream",
     "text": [
      "········\n"
     ]
    }
   ],
   "source": [
    "import getpass\n",
    "client_id = getpass.getpass()"
   ]
  },
  {
   "cell_type": "code",
   "execution_count": 4,
   "id": "c37fe3c5",
   "metadata": {},
   "outputs": [
    {
     "name": "stdout",
     "output_type": "stream",
     "text": [
      "········\n"
     ]
    }
   ],
   "source": [
    "client_secret = getpass.getpass()"
   ]
  },
  {
   "cell_type": "code",
   "execution_count": 14,
   "id": "fc32b832",
   "metadata": {},
   "outputs": [],
   "source": [
    "class spotifyAPI(object):\n",
    "    access_token = None\n",
    "    access_token_expires = datetime.datetime.now()\n",
    "    access_token_did_expire = True\n",
    "    client_id = None\n",
    "    client_secret = None\n",
    "    token_url = \"https://accounts.spotify.com/api/token\"\n",
    "    \n",
    "    def __init__(self, client_id, client_secret, *args, **kwargs):\n",
    "        self.client_id = client_id\n",
    "        self.client_secret = client_secret\n",
    "        \n",
    "    def get_client_credentials(self):\n",
    "        \"\"\"\n",
    "        Returns a Base 64 encoded string\n",
    "        \"\"\"\n",
    "        client_id = self.client_id\n",
    "        client_secret = self.client_secret\n",
    "        if client_secret == None or client_id == None:\n",
    "            raise Exception (\"You must set client_id and client_secret\")\n",
    "        client_creds = f\"{client_id}:{client_secret}\"\n",
    "        client_creds_b64 = base64.b64encode(client_creds.encode())\n",
    "        return client_creds_b64.decode()\n",
    "    \n",
    "    def get_token_headers(self):\n",
    "        client_creds_b64 = self.get_client_credentials()\n",
    "        return { \"Authorization\": f\"Basic {client_creds_b64}\" }\n",
    "    \n",
    "    def get_token_data(self):\n",
    "        return {\"grant_type\" : \"client_credentials\"}\n",
    "    \n",
    "    def perform_auth(self):\n",
    "        token_url = self.token_url\n",
    "        token_data = self.get_token_data()\n",
    "        token_headers = self.get_token_headers()\n",
    "        r = requests.post(token_url, data=token_data, headers=token_headers)\n",
    "        if r.status_code not in range(200,299):\n",
    "                    return False\n",
    "        token_response_data = r.json()\n",
    "        now = datetime.datetime.now()\n",
    "        access_token = token_response_data['access_token']\n",
    "        expires_in = token_response_data['expires_in'] #seconds\n",
    "        expires = now + datetime.timedelta(seconds=expires_in)\n",
    "        self.access_token = access_token\n",
    "        self.access_token_expires = expires\n",
    "        self.access_token_did_expire = expires < now\n",
    "        return True\n"
   ]
  },
  {
   "cell_type": "code",
   "execution_count": 15,
   "id": "5ae0cf9f",
   "metadata": {},
   "outputs": [],
   "source": [
    "client = spotifyAPI(client_id, client_secret)"
   ]
  },
  {
   "cell_type": "code",
   "execution_count": 16,
   "id": "a4e77f03",
   "metadata": {},
   "outputs": [
    {
     "data": {
      "text/plain": [
       "True"
      ]
     },
     "execution_count": 16,
     "metadata": {},
     "output_type": "execute_result"
    }
   ],
   "source": [
    "client.perform_auth()"
   ]
  },
  {
   "cell_type": "code",
   "execution_count": 19,
   "id": "ed204c52",
   "metadata": {},
   "outputs": [],
   "source": [
    "client.access_token"
   ]
  },
  {
   "cell_type": "code",
   "execution_count": null,
   "id": "46d323a4",
   "metadata": {},
   "outputs": [],
   "source": [
    "https://open.spotify.com/playlist/5pQVH0EJssqt4KDXPQVwv3?si=4d8ef5b6981f465e&nd=1\n"
   ]
  }
 ],
 "metadata": {
  "kernelspec": {
   "display_name": "Python 3 (ipykernel)",
   "language": "python",
   "name": "python3"
  },
  "language_info": {
   "codemirror_mode": {
    "name": "ipython",
    "version": 3
   },
   "file_extension": ".py",
   "mimetype": "text/x-python",
   "name": "python",
   "nbconvert_exporter": "python",
   "pygments_lexer": "ipython3",
   "version": "3.9.7"
  }
 },
 "nbformat": 4,
 "nbformat_minor": 5
}
