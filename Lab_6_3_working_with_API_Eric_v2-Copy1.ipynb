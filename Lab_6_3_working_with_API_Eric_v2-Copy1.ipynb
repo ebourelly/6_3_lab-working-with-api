{
 "cells": [
  {
   "cell_type": "code",
   "execution_count": 1,
   "id": "c16e4b5b",
   "metadata": {},
   "outputs": [],
   "source": [
    "import requests\n",
    "import json\n",
    "import pandas as pd\n",
    "import getpass\n",
    "import datetime"
   ]
  },
  {
   "cell_type": "markdown",
   "id": "855f23ae",
   "metadata": {},
   "source": [
    "Solution to initiate the API was found here by Ekaterina :\n",
    "https://stmorse.github.io/journal/spotify-api.html"
   ]
  },
  {
   "cell_type": "code",
   "execution_count": 2,
   "id": "eff15910",
   "metadata": {},
   "outputs": [
    {
     "name": "stdout",
     "output_type": "stream",
     "text": [
      "········\n"
     ]
    }
   ],
   "source": [
    "import getpass\n",
    "client_id = getpass.getpass()"
   ]
  },
  {
   "cell_type": "code",
   "execution_count": 3,
   "id": "eeeb3996",
   "metadata": {},
   "outputs": [
    {
     "name": "stdout",
     "output_type": "stream",
     "text": [
      "········\n"
     ]
    }
   ],
   "source": [
    "client_secret = getpass.getpass()"
   ]
  },
  {
   "cell_type": "code",
   "execution_count": 4,
   "id": "b54c15bf",
   "metadata": {},
   "outputs": [],
   "source": [
    "AUTH_URL = 'https://accounts.spotify.com/api/token'\n",
    "\n",
    "# POST\n",
    "auth_response = requests.post(AUTH_URL, {\n",
    "    'grant_type': 'client_credentials',\n",
    "    'client_id': client_id,\n",
    "    'client_secret': client_secret,\n",
    "})\n",
    "\n",
    "# convert the response to JSON\n",
    "auth_response_data = auth_response.json()\n",
    "\n",
    "# save the access token\n",
    "access_token = auth_response_data['access_token']"
   ]
  },
  {
   "cell_type": "code",
   "execution_count": 5,
   "id": "1b8ad477",
   "metadata": {},
   "outputs": [],
   "source": [
    "headers = {\n",
    "    'Authorization': 'Bearer {token}'.format(token=access_token)\n",
    "}\n"
   ]
  },
  {
   "cell_type": "code",
   "execution_count": 6,
   "id": "0a0659fe",
   "metadata": {},
   "outputs": [],
   "source": [
    "# base URL of all Spotify API endpoints\n",
    "BASE_URL = 'https://api.spotify.com/v1/'\n",
    "\n",
    "# Track ID from the URI\n",
    "playlist_id = '6Yin3UZ5nGf0XePvJ9toAO'\n",
    "\n",
    "# actual GET request with proper header\n",
    "r = requests.get(BASE_URL + 'playlists/' + playlist_id + '/tracks?fields=items(track(name, artists(name)))', headers=headers)"
   ]
  },
  {
   "cell_type": "code",
   "execution_count": 7,
   "id": "e15979dc",
   "metadata": {},
   "outputs": [
    {
     "data": {
      "text/plain": [
       "200"
      ]
     },
     "execution_count": 7,
     "metadata": {},
     "output_type": "execute_result"
    }
   ],
   "source": [
    "r.status_code"
   ]
  },
  {
   "cell_type": "code",
   "execution_count": 8,
   "id": "bdfecea2",
   "metadata": {},
   "outputs": [
    {
     "data": {
      "text/plain": [
       "{'items': [{'track': {'artists': [{'name': 'Wolfgang Amadeus Mozart'},\n",
       "     {'name': 'Aldo Ciccolini'}],\n",
       "    'name': 'Sonate No. 11 en La Majeur, « Marche turque », K.331: Sonate No. 11 en La Majeur, « Marche turque », K.331: Alla Turca: allegretto'}},\n",
       "  {'track': {'artists': [{'name': 'Wolfgang Amadeus Mozart'},\n",
       "     {'name': 'Jonas Vitaud'},\n",
       "     {'name': 'Mi-Sa Yang'}],\n",
       "    'name': 'Violin Sonata in E Minor, K. 304/300c: II. Tempo di menuetto'}},\n",
       "  {'track': {'artists': [{'name': 'Wolfgang Amadeus Mozart'},\n",
       "     {'name': 'Sir Neville Marriner'},\n",
       "     {'name': 'Academy of St. Martin in the Fields'}],\n",
       "    'name': 'Symphony No. 25 in G Minor K. 183/K. 173dB: I. Allegro con brio'}},\n",
       "  {'track': {'artists': [{'name': 'Wolfgang Amadeus Mozart'},\n",
       "     {'name': 'Heinrich Schiff'},\n",
       "     {'name': 'Northern Sinfonia Of England'}],\n",
       "    'name': 'Symphony No. 40 in G Minor, K. 550: I. Molto allegro'}},\n",
       "  {'track': {'artists': [{'name': 'Wolfgang Amadeus Mozart'},\n",
       "     {'name': 'Lang Lang'}],\n",
       "    'name': '12 Variations in C Major on \"Ah, vous dirai-je Maman\", K. 265: Tema (“Twinkle, Twinkle, Little Star”)'}},\n",
       "  {'track': {'artists': [{'name': 'Wolfgang Amadeus Mozart'},\n",
       "     {'name': 'La Grande Écurie et la Chambre du Roy'},\n",
       "     {'name': 'Jean-Claude Malgoire'}],\n",
       "    'name': 'Serenade No. 13 in G Major, K. 525 \"Eine kleine Nachtmusik\": I. Allegro'}},\n",
       "  {'track': {'artists': [{'name': 'Wolfgang Amadeus Mozart'},\n",
       "     {'name': 'Capella Istropolitana'},\n",
       "     {'name': 'Barry Wordsworth'}],\n",
       "    'name': 'Bastien und Bastienne, K. 50'}},\n",
       "  {'track': {'artists': [{'name': 'Wolfgang Amadeus Mozart'},\n",
       "     {'name': 'Susan Palma-Nidel'},\n",
       "     {'name': 'Nancy Allen'},\n",
       "     {'name': 'Orpheus Chamber Orchestra'}],\n",
       "    'name': 'Concerto for Flute, Harp, and Orchestra in C Major, K. 299: II. Andantino'}},\n",
       "  {'track': {'artists': [{'name': 'Wolfgang Amadeus Mozart'},\n",
       "     {'name': 'Academy of Ancient Music'},\n",
       "     {'name': 'Stephen Cleobury'},\n",
       "     {'name': \"Choir of King's College, Cambridge\"}],\n",
       "    'name': 'Requiem, K. 626: Kyrie'}},\n",
       "  {'track': {'artists': [{'name': 'Wolfgang Amadeus Mozart'},\n",
       "     {'name': 'Rieko Suzuki'},\n",
       "     {'name': 'Akira Wakabayashi'}],\n",
       "    'name': 'ヴァイオリン・ソナタ 変ホ長調, K. 380: 3. Rondo: Allegro'}},\n",
       "  {'track': {'artists': [{'name': 'Wolfgang Amadeus Mozart'},\n",
       "     {'name': 'Orchestre Paul Kuentz'},\n",
       "     {'name': 'Elisabeth Vidal'}],\n",
       "    'name': 'Air de la Reine de la nuit (Extrait de la Flûte Enchantée)'}}]}"
      ]
     },
     "execution_count": 8,
     "metadata": {},
     "output_type": "execute_result"
    }
   ],
   "source": [
    "r = r.json()\n",
    "r"
   ]
  },
  {
   "cell_type": "code",
   "execution_count": 9,
   "id": "c7f48b3c",
   "metadata": {},
   "outputs": [
    {
     "data": {
      "text/html": [
       "<div>\n",
       "<style scoped>\n",
       "    .dataframe tbody tr th:only-of-type {\n",
       "        vertical-align: middle;\n",
       "    }\n",
       "\n",
       "    .dataframe tbody tr th {\n",
       "        vertical-align: top;\n",
       "    }\n",
       "\n",
       "    .dataframe thead th {\n",
       "        text-align: right;\n",
       "    }\n",
       "</style>\n",
       "<table border=\"1\" class=\"dataframe\">\n",
       "  <thead>\n",
       "    <tr style=\"text-align: right;\">\n",
       "      <th></th>\n",
       "      <th>items</th>\n",
       "    </tr>\n",
       "  </thead>\n",
       "  <tbody>\n",
       "    <tr>\n",
       "      <th>0</th>\n",
       "      <td>{'track': {'artists': [{'name': 'Wolfgang Amad...</td>\n",
       "    </tr>\n",
       "    <tr>\n",
       "      <th>1</th>\n",
       "      <td>{'track': {'artists': [{'name': 'Wolfgang Amad...</td>\n",
       "    </tr>\n",
       "    <tr>\n",
       "      <th>2</th>\n",
       "      <td>{'track': {'artists': [{'name': 'Wolfgang Amad...</td>\n",
       "    </tr>\n",
       "    <tr>\n",
       "      <th>3</th>\n",
       "      <td>{'track': {'artists': [{'name': 'Wolfgang Amad...</td>\n",
       "    </tr>\n",
       "    <tr>\n",
       "      <th>4</th>\n",
       "      <td>{'track': {'artists': [{'name': 'Wolfgang Amad...</td>\n",
       "    </tr>\n",
       "    <tr>\n",
       "      <th>5</th>\n",
       "      <td>{'track': {'artists': [{'name': 'Wolfgang Amad...</td>\n",
       "    </tr>\n",
       "    <tr>\n",
       "      <th>6</th>\n",
       "      <td>{'track': {'artists': [{'name': 'Wolfgang Amad...</td>\n",
       "    </tr>\n",
       "    <tr>\n",
       "      <th>7</th>\n",
       "      <td>{'track': {'artists': [{'name': 'Wolfgang Amad...</td>\n",
       "    </tr>\n",
       "    <tr>\n",
       "      <th>8</th>\n",
       "      <td>{'track': {'artists': [{'name': 'Wolfgang Amad...</td>\n",
       "    </tr>\n",
       "    <tr>\n",
       "      <th>9</th>\n",
       "      <td>{'track': {'artists': [{'name': 'Wolfgang Amad...</td>\n",
       "    </tr>\n",
       "    <tr>\n",
       "      <th>10</th>\n",
       "      <td>{'track': {'artists': [{'name': 'Wolfgang Amad...</td>\n",
       "    </tr>\n",
       "  </tbody>\n",
       "</table>\n",
       "</div>"
      ],
      "text/plain": [
       "                                                items\n",
       "0   {'track': {'artists': [{'name': 'Wolfgang Amad...\n",
       "1   {'track': {'artists': [{'name': 'Wolfgang Amad...\n",
       "2   {'track': {'artists': [{'name': 'Wolfgang Amad...\n",
       "3   {'track': {'artists': [{'name': 'Wolfgang Amad...\n",
       "4   {'track': {'artists': [{'name': 'Wolfgang Amad...\n",
       "5   {'track': {'artists': [{'name': 'Wolfgang Amad...\n",
       "6   {'track': {'artists': [{'name': 'Wolfgang Amad...\n",
       "7   {'track': {'artists': [{'name': 'Wolfgang Amad...\n",
       "8   {'track': {'artists': [{'name': 'Wolfgang Amad...\n",
       "9   {'track': {'artists': [{'name': 'Wolfgang Amad...\n",
       "10  {'track': {'artists': [{'name': 'Wolfgang Amad..."
      ]
     },
     "execution_count": 9,
     "metadata": {},
     "output_type": "execute_result"
    }
   ],
   "source": [
    "df = pd.DataFrame(r)\n",
    "df"
   ]
  },
  {
   "cell_type": "code",
   "execution_count": 10,
   "id": "8206c1ac",
   "metadata": {},
   "outputs": [],
   "source": [
    "def flatten(data, col_list):\n",
    "    for column in col_list:\n",
    "        flattened = pd.DataFrame(dict(data[column])).transpose()\n",
    "        columns = [str(col) for col in flattened.columns]\n",
    "        flattened.columns = [column + '_' + colname for colname in columns]\n",
    "        data = pd.concat([data, flattened], axis=1)\n",
    "        data = data.drop(column, axis=1)\n",
    "    return data"
   ]
  },
  {
   "cell_type": "code",
   "execution_count": 11,
   "id": "85dbf314",
   "metadata": {},
   "outputs": [
    {
     "data": {
      "text/html": [
       "<div>\n",
       "<style scoped>\n",
       "    .dataframe tbody tr th:only-of-type {\n",
       "        vertical-align: middle;\n",
       "    }\n",
       "\n",
       "    .dataframe tbody tr th {\n",
       "        vertical-align: top;\n",
       "    }\n",
       "\n",
       "    .dataframe thead th {\n",
       "        text-align: right;\n",
       "    }\n",
       "</style>\n",
       "<table border=\"1\" class=\"dataframe\">\n",
       "  <thead>\n",
       "    <tr style=\"text-align: right;\">\n",
       "      <th></th>\n",
       "      <th>items_track</th>\n",
       "    </tr>\n",
       "  </thead>\n",
       "  <tbody>\n",
       "    <tr>\n",
       "      <th>0</th>\n",
       "      <td>{'artists': [{'name': 'Wolfgang Amadeus Mozart...</td>\n",
       "    </tr>\n",
       "    <tr>\n",
       "      <th>1</th>\n",
       "      <td>{'artists': [{'name': 'Wolfgang Amadeus Mozart...</td>\n",
       "    </tr>\n",
       "    <tr>\n",
       "      <th>2</th>\n",
       "      <td>{'artists': [{'name': 'Wolfgang Amadeus Mozart...</td>\n",
       "    </tr>\n",
       "    <tr>\n",
       "      <th>3</th>\n",
       "      <td>{'artists': [{'name': 'Wolfgang Amadeus Mozart...</td>\n",
       "    </tr>\n",
       "    <tr>\n",
       "      <th>4</th>\n",
       "      <td>{'artists': [{'name': 'Wolfgang Amadeus Mozart...</td>\n",
       "    </tr>\n",
       "    <tr>\n",
       "      <th>5</th>\n",
       "      <td>{'artists': [{'name': 'Wolfgang Amadeus Mozart...</td>\n",
       "    </tr>\n",
       "    <tr>\n",
       "      <th>6</th>\n",
       "      <td>{'artists': [{'name': 'Wolfgang Amadeus Mozart...</td>\n",
       "    </tr>\n",
       "    <tr>\n",
       "      <th>7</th>\n",
       "      <td>{'artists': [{'name': 'Wolfgang Amadeus Mozart...</td>\n",
       "    </tr>\n",
       "    <tr>\n",
       "      <th>8</th>\n",
       "      <td>{'artists': [{'name': 'Wolfgang Amadeus Mozart...</td>\n",
       "    </tr>\n",
       "    <tr>\n",
       "      <th>9</th>\n",
       "      <td>{'artists': [{'name': 'Wolfgang Amadeus Mozart...</td>\n",
       "    </tr>\n",
       "    <tr>\n",
       "      <th>10</th>\n",
       "      <td>{'artists': [{'name': 'Wolfgang Amadeus Mozart...</td>\n",
       "    </tr>\n",
       "  </tbody>\n",
       "</table>\n",
       "</div>"
      ],
      "text/plain": [
       "                                          items_track\n",
       "0   {'artists': [{'name': 'Wolfgang Amadeus Mozart...\n",
       "1   {'artists': [{'name': 'Wolfgang Amadeus Mozart...\n",
       "2   {'artists': [{'name': 'Wolfgang Amadeus Mozart...\n",
       "3   {'artists': [{'name': 'Wolfgang Amadeus Mozart...\n",
       "4   {'artists': [{'name': 'Wolfgang Amadeus Mozart...\n",
       "5   {'artists': [{'name': 'Wolfgang Amadeus Mozart...\n",
       "6   {'artists': [{'name': 'Wolfgang Amadeus Mozart...\n",
       "7   {'artists': [{'name': 'Wolfgang Amadeus Mozart...\n",
       "8   {'artists': [{'name': 'Wolfgang Amadeus Mozart...\n",
       "9   {'artists': [{'name': 'Wolfgang Amadeus Mozart...\n",
       "10  {'artists': [{'name': 'Wolfgang Amadeus Mozart..."
      ]
     },
     "execution_count": 11,
     "metadata": {},
     "output_type": "execute_result"
    }
   ],
   "source": [
    "flat_df = flatten(df, ['items'])\n",
    "flat_df"
   ]
  },
  {
   "cell_type": "code",
   "execution_count": 12,
   "id": "94de5009",
   "metadata": {},
   "outputs": [
    {
     "data": {
      "text/html": [
       "<div>\n",
       "<style scoped>\n",
       "    .dataframe tbody tr th:only-of-type {\n",
       "        vertical-align: middle;\n",
       "    }\n",
       "\n",
       "    .dataframe tbody tr th {\n",
       "        vertical-align: top;\n",
       "    }\n",
       "\n",
       "    .dataframe thead th {\n",
       "        text-align: right;\n",
       "    }\n",
       "</style>\n",
       "<table border=\"1\" class=\"dataframe\">\n",
       "  <thead>\n",
       "    <tr style=\"text-align: right;\">\n",
       "      <th></th>\n",
       "      <th>items_track_artists</th>\n",
       "      <th>items_track_name</th>\n",
       "    </tr>\n",
       "  </thead>\n",
       "  <tbody>\n",
       "    <tr>\n",
       "      <th>0</th>\n",
       "      <td>[{'name': 'Wolfgang Amadeus Mozart'}, {'name':...</td>\n",
       "      <td>Sonate No. 11 en La Majeur, « Marche turque »,...</td>\n",
       "    </tr>\n",
       "    <tr>\n",
       "      <th>1</th>\n",
       "      <td>[{'name': 'Wolfgang Amadeus Mozart'}, {'name':...</td>\n",
       "      <td>Violin Sonata in E Minor, K. 304/300c: II. Tem...</td>\n",
       "    </tr>\n",
       "    <tr>\n",
       "      <th>2</th>\n",
       "      <td>[{'name': 'Wolfgang Amadeus Mozart'}, {'name':...</td>\n",
       "      <td>Symphony No. 25 in G Minor K. 183/K. 173dB: I....</td>\n",
       "    </tr>\n",
       "    <tr>\n",
       "      <th>3</th>\n",
       "      <td>[{'name': 'Wolfgang Amadeus Mozart'}, {'name':...</td>\n",
       "      <td>Symphony No. 40 in G Minor, K. 550: I. Molto a...</td>\n",
       "    </tr>\n",
       "    <tr>\n",
       "      <th>4</th>\n",
       "      <td>[{'name': 'Wolfgang Amadeus Mozart'}, {'name':...</td>\n",
       "      <td>12 Variations in C Major on \"Ah, vous dirai-je...</td>\n",
       "    </tr>\n",
       "    <tr>\n",
       "      <th>5</th>\n",
       "      <td>[{'name': 'Wolfgang Amadeus Mozart'}, {'name':...</td>\n",
       "      <td>Serenade No. 13 in G Major, K. 525 \"Eine klein...</td>\n",
       "    </tr>\n",
       "    <tr>\n",
       "      <th>6</th>\n",
       "      <td>[{'name': 'Wolfgang Amadeus Mozart'}, {'name':...</td>\n",
       "      <td>Bastien und Bastienne, K. 50</td>\n",
       "    </tr>\n",
       "    <tr>\n",
       "      <th>7</th>\n",
       "      <td>[{'name': 'Wolfgang Amadeus Mozart'}, {'name':...</td>\n",
       "      <td>Concerto for Flute, Harp, and Orchestra in C M...</td>\n",
       "    </tr>\n",
       "    <tr>\n",
       "      <th>8</th>\n",
       "      <td>[{'name': 'Wolfgang Amadeus Mozart'}, {'name':...</td>\n",
       "      <td>Requiem, K. 626: Kyrie</td>\n",
       "    </tr>\n",
       "    <tr>\n",
       "      <th>9</th>\n",
       "      <td>[{'name': 'Wolfgang Amadeus Mozart'}, {'name':...</td>\n",
       "      <td>ヴァイオリン・ソナタ 変ホ長調, K. 380: 3. Rondo: Allegro</td>\n",
       "    </tr>\n",
       "    <tr>\n",
       "      <th>10</th>\n",
       "      <td>[{'name': 'Wolfgang Amadeus Mozart'}, {'name':...</td>\n",
       "      <td>Air de la Reine de la nuit (Extrait de la Flût...</td>\n",
       "    </tr>\n",
       "  </tbody>\n",
       "</table>\n",
       "</div>"
      ],
      "text/plain": [
       "                                  items_track_artists  \\\n",
       "0   [{'name': 'Wolfgang Amadeus Mozart'}, {'name':...   \n",
       "1   [{'name': 'Wolfgang Amadeus Mozart'}, {'name':...   \n",
       "2   [{'name': 'Wolfgang Amadeus Mozart'}, {'name':...   \n",
       "3   [{'name': 'Wolfgang Amadeus Mozart'}, {'name':...   \n",
       "4   [{'name': 'Wolfgang Amadeus Mozart'}, {'name':...   \n",
       "5   [{'name': 'Wolfgang Amadeus Mozart'}, {'name':...   \n",
       "6   [{'name': 'Wolfgang Amadeus Mozart'}, {'name':...   \n",
       "7   [{'name': 'Wolfgang Amadeus Mozart'}, {'name':...   \n",
       "8   [{'name': 'Wolfgang Amadeus Mozart'}, {'name':...   \n",
       "9   [{'name': 'Wolfgang Amadeus Mozart'}, {'name':...   \n",
       "10  [{'name': 'Wolfgang Amadeus Mozart'}, {'name':...   \n",
       "\n",
       "                                     items_track_name  \n",
       "0   Sonate No. 11 en La Majeur, « Marche turque »,...  \n",
       "1   Violin Sonata in E Minor, K. 304/300c: II. Tem...  \n",
       "2   Symphony No. 25 in G Minor K. 183/K. 173dB: I....  \n",
       "3   Symphony No. 40 in G Minor, K. 550: I. Molto a...  \n",
       "4   12 Variations in C Major on \"Ah, vous dirai-je...  \n",
       "5   Serenade No. 13 in G Major, K. 525 \"Eine klein...  \n",
       "6                        Bastien und Bastienne, K. 50  \n",
       "7   Concerto for Flute, Harp, and Orchestra in C M...  \n",
       "8                              Requiem, K. 626: Kyrie  \n",
       "9          ヴァイオリン・ソナタ 変ホ長調, K. 380: 3. Rondo: Allegro  \n",
       "10  Air de la Reine de la nuit (Extrait de la Flût...  "
      ]
     },
     "execution_count": 12,
     "metadata": {},
     "output_type": "execute_result"
    }
   ],
   "source": [
    "flat_df = flatten(flat_df, ['items_track'])\n",
    "flat_df"
   ]
  },
  {
   "cell_type": "code",
   "execution_count": 13,
   "id": "96042ec7",
   "metadata": {},
   "outputs": [
    {
     "ename": "ValueError",
     "evalue": "All arrays must be of the same length",
     "output_type": "error",
     "traceback": [
      "\u001b[1;31m---------------------------------------------------------------------------\u001b[0m",
      "\u001b[1;31mValueError\u001b[0m                                Traceback (most recent call last)",
      "\u001b[1;32m~\\AppData\\Local\\Temp/ipykernel_18608/2038920361.py\u001b[0m in \u001b[0;36m<module>\u001b[1;34m\u001b[0m\n\u001b[1;32m----> 1\u001b[1;33m \u001b[0mflat_df\u001b[0m \u001b[1;33m=\u001b[0m \u001b[0mflatten\u001b[0m\u001b[1;33m(\u001b[0m\u001b[0mflat_df\u001b[0m\u001b[1;33m,\u001b[0m \u001b[1;33m[\u001b[0m\u001b[1;34m'items_track_artists'\u001b[0m\u001b[1;33m]\u001b[0m\u001b[1;33m)\u001b[0m\u001b[1;33m\u001b[0m\u001b[1;33m\u001b[0m\u001b[0m\n\u001b[0m\u001b[0;32m      2\u001b[0m \u001b[0mflat_df\u001b[0m\u001b[1;33m\u001b[0m\u001b[1;33m\u001b[0m\u001b[0m\n",
      "\u001b[1;32m~\\AppData\\Local\\Temp/ipykernel_18608/1413827644.py\u001b[0m in \u001b[0;36mflatten\u001b[1;34m(data, col_list)\u001b[0m\n\u001b[0;32m      1\u001b[0m \u001b[1;32mdef\u001b[0m \u001b[0mflatten\u001b[0m\u001b[1;33m(\u001b[0m\u001b[0mdata\u001b[0m\u001b[1;33m,\u001b[0m \u001b[0mcol_list\u001b[0m\u001b[1;33m)\u001b[0m\u001b[1;33m:\u001b[0m\u001b[1;33m\u001b[0m\u001b[1;33m\u001b[0m\u001b[0m\n\u001b[0;32m      2\u001b[0m     \u001b[1;32mfor\u001b[0m \u001b[0mcolumn\u001b[0m \u001b[1;32min\u001b[0m \u001b[0mcol_list\u001b[0m\u001b[1;33m:\u001b[0m\u001b[1;33m\u001b[0m\u001b[1;33m\u001b[0m\u001b[0m\n\u001b[1;32m----> 3\u001b[1;33m         \u001b[0mflattened\u001b[0m \u001b[1;33m=\u001b[0m \u001b[0mpd\u001b[0m\u001b[1;33m.\u001b[0m\u001b[0mDataFrame\u001b[0m\u001b[1;33m(\u001b[0m\u001b[0mdict\u001b[0m\u001b[1;33m(\u001b[0m\u001b[0mdata\u001b[0m\u001b[1;33m[\u001b[0m\u001b[0mcolumn\u001b[0m\u001b[1;33m]\u001b[0m\u001b[1;33m)\u001b[0m\u001b[1;33m)\u001b[0m\u001b[1;33m.\u001b[0m\u001b[0mtranspose\u001b[0m\u001b[1;33m(\u001b[0m\u001b[1;33m)\u001b[0m\u001b[1;33m\u001b[0m\u001b[1;33m\u001b[0m\u001b[0m\n\u001b[0m\u001b[0;32m      4\u001b[0m         \u001b[0mcolumns\u001b[0m \u001b[1;33m=\u001b[0m \u001b[1;33m[\u001b[0m\u001b[0mstr\u001b[0m\u001b[1;33m(\u001b[0m\u001b[0mcol\u001b[0m\u001b[1;33m)\u001b[0m \u001b[1;32mfor\u001b[0m \u001b[0mcol\u001b[0m \u001b[1;32min\u001b[0m \u001b[0mflattened\u001b[0m\u001b[1;33m.\u001b[0m\u001b[0mcolumns\u001b[0m\u001b[1;33m]\u001b[0m\u001b[1;33m\u001b[0m\u001b[1;33m\u001b[0m\u001b[0m\n\u001b[0;32m      5\u001b[0m         \u001b[0mflattened\u001b[0m\u001b[1;33m.\u001b[0m\u001b[0mcolumns\u001b[0m \u001b[1;33m=\u001b[0m \u001b[1;33m[\u001b[0m\u001b[0mcolumn\u001b[0m \u001b[1;33m+\u001b[0m \u001b[1;34m'_'\u001b[0m \u001b[1;33m+\u001b[0m \u001b[0mcolname\u001b[0m \u001b[1;32mfor\u001b[0m \u001b[0mcolname\u001b[0m \u001b[1;32min\u001b[0m \u001b[0mcolumns\u001b[0m\u001b[1;33m]\u001b[0m\u001b[1;33m\u001b[0m\u001b[1;33m\u001b[0m\u001b[0m\n",
      "\u001b[1;32m~\\anaconda3\\lib\\site-packages\\pandas\\core\\frame.py\u001b[0m in \u001b[0;36m__init__\u001b[1;34m(self, data, index, columns, dtype, copy)\u001b[0m\n\u001b[0;32m    612\u001b[0m         \u001b[1;32melif\u001b[0m \u001b[0misinstance\u001b[0m\u001b[1;33m(\u001b[0m\u001b[0mdata\u001b[0m\u001b[1;33m,\u001b[0m \u001b[0mdict\u001b[0m\u001b[1;33m)\u001b[0m\u001b[1;33m:\u001b[0m\u001b[1;33m\u001b[0m\u001b[1;33m\u001b[0m\u001b[0m\n\u001b[0;32m    613\u001b[0m             \u001b[1;31m# GH#38939 de facto copy defaults to False only in non-dict cases\u001b[0m\u001b[1;33m\u001b[0m\u001b[1;33m\u001b[0m\u001b[0m\n\u001b[1;32m--> 614\u001b[1;33m             \u001b[0mmgr\u001b[0m \u001b[1;33m=\u001b[0m \u001b[0mdict_to_mgr\u001b[0m\u001b[1;33m(\u001b[0m\u001b[0mdata\u001b[0m\u001b[1;33m,\u001b[0m \u001b[0mindex\u001b[0m\u001b[1;33m,\u001b[0m \u001b[0mcolumns\u001b[0m\u001b[1;33m,\u001b[0m \u001b[0mdtype\u001b[0m\u001b[1;33m=\u001b[0m\u001b[0mdtype\u001b[0m\u001b[1;33m,\u001b[0m \u001b[0mcopy\u001b[0m\u001b[1;33m=\u001b[0m\u001b[0mcopy\u001b[0m\u001b[1;33m,\u001b[0m \u001b[0mtyp\u001b[0m\u001b[1;33m=\u001b[0m\u001b[0mmanager\u001b[0m\u001b[1;33m)\u001b[0m\u001b[1;33m\u001b[0m\u001b[1;33m\u001b[0m\u001b[0m\n\u001b[0m\u001b[0;32m    615\u001b[0m         \u001b[1;32melif\u001b[0m \u001b[0misinstance\u001b[0m\u001b[1;33m(\u001b[0m\u001b[0mdata\u001b[0m\u001b[1;33m,\u001b[0m \u001b[0mma\u001b[0m\u001b[1;33m.\u001b[0m\u001b[0mMaskedArray\u001b[0m\u001b[1;33m)\u001b[0m\u001b[1;33m:\u001b[0m\u001b[1;33m\u001b[0m\u001b[1;33m\u001b[0m\u001b[0m\n\u001b[0;32m    616\u001b[0m             \u001b[1;32mimport\u001b[0m \u001b[0mnumpy\u001b[0m\u001b[1;33m.\u001b[0m\u001b[0mma\u001b[0m\u001b[1;33m.\u001b[0m\u001b[0mmrecords\u001b[0m \u001b[1;32mas\u001b[0m \u001b[0mmrecords\u001b[0m\u001b[1;33m\u001b[0m\u001b[1;33m\u001b[0m\u001b[0m\n",
      "\u001b[1;32m~\\anaconda3\\lib\\site-packages\\pandas\\core\\internals\\construction.py\u001b[0m in \u001b[0;36mdict_to_mgr\u001b[1;34m(data, index, columns, dtype, typ, copy)\u001b[0m\n\u001b[0;32m    462\u001b[0m         \u001b[1;31m# TODO: can we get rid of the dt64tz special case above?\u001b[0m\u001b[1;33m\u001b[0m\u001b[1;33m\u001b[0m\u001b[0m\n\u001b[0;32m    463\u001b[0m \u001b[1;33m\u001b[0m\u001b[0m\n\u001b[1;32m--> 464\u001b[1;33m     return arrays_to_mgr(\n\u001b[0m\u001b[0;32m    465\u001b[0m         \u001b[0marrays\u001b[0m\u001b[1;33m,\u001b[0m \u001b[0mdata_names\u001b[0m\u001b[1;33m,\u001b[0m \u001b[0mindex\u001b[0m\u001b[1;33m,\u001b[0m \u001b[0mcolumns\u001b[0m\u001b[1;33m,\u001b[0m \u001b[0mdtype\u001b[0m\u001b[1;33m=\u001b[0m\u001b[0mdtype\u001b[0m\u001b[1;33m,\u001b[0m \u001b[0mtyp\u001b[0m\u001b[1;33m=\u001b[0m\u001b[0mtyp\u001b[0m\u001b[1;33m,\u001b[0m \u001b[0mconsolidate\u001b[0m\u001b[1;33m=\u001b[0m\u001b[0mcopy\u001b[0m\u001b[1;33m\u001b[0m\u001b[1;33m\u001b[0m\u001b[0m\n\u001b[0;32m    466\u001b[0m     )\n",
      "\u001b[1;32m~\\anaconda3\\lib\\site-packages\\pandas\\core\\internals\\construction.py\u001b[0m in \u001b[0;36marrays_to_mgr\u001b[1;34m(arrays, arr_names, index, columns, dtype, verify_integrity, typ, consolidate)\u001b[0m\n\u001b[0;32m    117\u001b[0m         \u001b[1;31m# figure out the index, if necessary\u001b[0m\u001b[1;33m\u001b[0m\u001b[1;33m\u001b[0m\u001b[0m\n\u001b[0;32m    118\u001b[0m         \u001b[1;32mif\u001b[0m \u001b[0mindex\u001b[0m \u001b[1;32mis\u001b[0m \u001b[1;32mNone\u001b[0m\u001b[1;33m:\u001b[0m\u001b[1;33m\u001b[0m\u001b[1;33m\u001b[0m\u001b[0m\n\u001b[1;32m--> 119\u001b[1;33m             \u001b[0mindex\u001b[0m \u001b[1;33m=\u001b[0m \u001b[0m_extract_index\u001b[0m\u001b[1;33m(\u001b[0m\u001b[0marrays\u001b[0m\u001b[1;33m)\u001b[0m\u001b[1;33m\u001b[0m\u001b[1;33m\u001b[0m\u001b[0m\n\u001b[0m\u001b[0;32m    120\u001b[0m         \u001b[1;32melse\u001b[0m\u001b[1;33m:\u001b[0m\u001b[1;33m\u001b[0m\u001b[1;33m\u001b[0m\u001b[0m\n\u001b[0;32m    121\u001b[0m             \u001b[0mindex\u001b[0m \u001b[1;33m=\u001b[0m \u001b[0mensure_index\u001b[0m\u001b[1;33m(\u001b[0m\u001b[0mindex\u001b[0m\u001b[1;33m)\u001b[0m\u001b[1;33m\u001b[0m\u001b[1;33m\u001b[0m\u001b[0m\n",
      "\u001b[1;32m~\\anaconda3\\lib\\site-packages\\pandas\\core\\internals\\construction.py\u001b[0m in \u001b[0;36m_extract_index\u001b[1;34m(data)\u001b[0m\n\u001b[0;32m    633\u001b[0m             \u001b[0mlengths\u001b[0m \u001b[1;33m=\u001b[0m \u001b[0mlist\u001b[0m\u001b[1;33m(\u001b[0m\u001b[0mset\u001b[0m\u001b[1;33m(\u001b[0m\u001b[0mraw_lengths\u001b[0m\u001b[1;33m)\u001b[0m\u001b[1;33m)\u001b[0m\u001b[1;33m\u001b[0m\u001b[1;33m\u001b[0m\u001b[0m\n\u001b[0;32m    634\u001b[0m             \u001b[1;32mif\u001b[0m \u001b[0mlen\u001b[0m\u001b[1;33m(\u001b[0m\u001b[0mlengths\u001b[0m\u001b[1;33m)\u001b[0m \u001b[1;33m>\u001b[0m \u001b[1;36m1\u001b[0m\u001b[1;33m:\u001b[0m\u001b[1;33m\u001b[0m\u001b[1;33m\u001b[0m\u001b[0m\n\u001b[1;32m--> 635\u001b[1;33m                 \u001b[1;32mraise\u001b[0m \u001b[0mValueError\u001b[0m\u001b[1;33m(\u001b[0m\u001b[1;34m\"All arrays must be of the same length\"\u001b[0m\u001b[1;33m)\u001b[0m\u001b[1;33m\u001b[0m\u001b[1;33m\u001b[0m\u001b[0m\n\u001b[0m\u001b[0;32m    636\u001b[0m \u001b[1;33m\u001b[0m\u001b[0m\n\u001b[0;32m    637\u001b[0m             \u001b[1;32mif\u001b[0m \u001b[0mhave_dicts\u001b[0m\u001b[1;33m:\u001b[0m\u001b[1;33m\u001b[0m\u001b[1;33m\u001b[0m\u001b[0m\n",
      "\u001b[1;31mValueError\u001b[0m: All arrays must be of the same length"
     ]
    }
   ],
   "source": [
    "flat_df = flatten(flat_df, ['items_track_artists'])\n",
    "flat_df"
   ]
  },
  {
   "cell_type": "markdown",
   "id": "93552884",
   "metadata": {},
   "source": [
    "This does not work: some songs have more than one artist name and the column for the artists thus ends up with more rows than the one with the song names."
   ]
  },
  {
   "cell_type": "markdown",
   "id": "8b741eeb",
   "metadata": {},
   "source": [
    "I will make a function to try to isolate the rows where there is more than one artist."
   ]
  },
  {
   "cell_type": "code",
   "execution_count": 14,
   "id": "fbb73f4f",
   "metadata": {},
   "outputs": [
    {
     "data": {
      "text/plain": [
       "2"
      ]
     },
     "execution_count": 14,
     "metadata": {},
     "output_type": "execute_result"
    }
   ],
   "source": [
    "len(flat_df['items_track_artists'][0])"
   ]
  },
  {
   "cell_type": "code",
   "execution_count": 15,
   "id": "b61a2c50",
   "metadata": {},
   "outputs": [
    {
     "data": {
      "text/plain": [
       "3"
      ]
     },
     "execution_count": 15,
     "metadata": {},
     "output_type": "execute_result"
    }
   ],
   "source": [
    "len(flat_df['items_track_artists'][6])"
   ]
  },
  {
   "cell_type": "code",
   "execution_count": 16,
   "id": "053eb805",
   "metadata": {},
   "outputs": [
    {
     "data": {
      "text/plain": [
       "'Wolfgang Amadeus Mozart'"
      ]
     },
     "execution_count": 16,
     "metadata": {},
     "output_type": "execute_result"
    }
   ],
   "source": [
    "flat_df['items_track_artists'][0][0]['name']"
   ]
  },
  {
   "cell_type": "code",
   "execution_count": 17,
   "id": "c3ff470a",
   "metadata": {},
   "outputs": [
    {
     "data": {
      "text/plain": [
       "['Wolfgang Amadeus Mozart, Aldo Ciccolini',\n",
       " 'Wolfgang Amadeus Mozart, Jonas Vitaud, Mi-Sa Yang',\n",
       " 'Wolfgang Amadeus Mozart, Sir Neville Marriner, Academy of St. Martin in the Fields',\n",
       " 'Wolfgang Amadeus Mozart, Heinrich Schiff, Northern Sinfonia Of England',\n",
       " 'Wolfgang Amadeus Mozart, Lang Lang',\n",
       " 'Wolfgang Amadeus Mozart, La Grande Écurie et la Chambre du Roy, Jean-Claude Malgoire',\n",
       " 'Wolfgang Amadeus Mozart, Capella Istropolitana, Barry Wordsworth',\n",
       " 'Wolfgang Amadeus Mozart, Susan Palma-Nidel, Nancy Allen, Orpheus Chamber Orchestra',\n",
       " \"Wolfgang Amadeus Mozart, Academy of Ancient Music, Stephen Cleobury, Choir of King's College, Cambridge\",\n",
       " 'Wolfgang Amadeus Mozart, Rieko Suzuki, Akira Wakabayashi',\n",
       " 'Wolfgang Amadeus Mozart, Orchestre Paul Kuentz, Elisabeth Vidal']"
      ]
     },
     "execution_count": 17,
     "metadata": {},
     "output_type": "execute_result"
    }
   ],
   "source": [
    "artists = []\n",
    "\n",
    "for i in range(len(flat_df['items_track_name'])):\n",
    "    artist = flat_df['items_track_artists'][i][0]['name']\n",
    "    if len(flat_df['items_track_artists'][i]) > 1:\n",
    "        for j in range(1, len(flat_df['items_track_artists'][i])):\n",
    "            artist += ', ' + flat_df['items_track_artists'][i][j]['name']\n",
    "\n",
    "    artists.append(artist)\n",
    "\n",
    "artists"
   ]
  },
  {
   "cell_type": "code",
   "execution_count": 18,
   "id": "4bcab525",
   "metadata": {},
   "outputs": [
    {
     "data": {
      "text/html": [
       "<div>\n",
       "<style scoped>\n",
       "    .dataframe tbody tr th:only-of-type {\n",
       "        vertical-align: middle;\n",
       "    }\n",
       "\n",
       "    .dataframe tbody tr th {\n",
       "        vertical-align: top;\n",
       "    }\n",
       "\n",
       "    .dataframe thead th {\n",
       "        text-align: right;\n",
       "    }\n",
       "</style>\n",
       "<table border=\"1\" class=\"dataframe\">\n",
       "  <thead>\n",
       "    <tr style=\"text-align: right;\">\n",
       "      <th></th>\n",
       "      <th>Song Name</th>\n",
       "      <th>Artist(s)</th>\n",
       "    </tr>\n",
       "  </thead>\n",
       "  <tbody>\n",
       "    <tr>\n",
       "      <th>0</th>\n",
       "      <td>Sonate No. 11 en La Majeur, « Marche turque »,...</td>\n",
       "      <td>Wolfgang Amadeus Mozart, Aldo Ciccolini</td>\n",
       "    </tr>\n",
       "    <tr>\n",
       "      <th>1</th>\n",
       "      <td>Violin Sonata in E Minor, K. 304/300c: II. Tem...</td>\n",
       "      <td>Wolfgang Amadeus Mozart, Jonas Vitaud, Mi-Sa Yang</td>\n",
       "    </tr>\n",
       "    <tr>\n",
       "      <th>2</th>\n",
       "      <td>Symphony No. 25 in G Minor K. 183/K. 173dB: I....</td>\n",
       "      <td>Wolfgang Amadeus Mozart, Sir Neville Marriner,...</td>\n",
       "    </tr>\n",
       "    <tr>\n",
       "      <th>3</th>\n",
       "      <td>Symphony No. 40 in G Minor, K. 550: I. Molto a...</td>\n",
       "      <td>Wolfgang Amadeus Mozart, Heinrich Schiff, Nort...</td>\n",
       "    </tr>\n",
       "    <tr>\n",
       "      <th>4</th>\n",
       "      <td>12 Variations in C Major on \"Ah, vous dirai-je...</td>\n",
       "      <td>Wolfgang Amadeus Mozart, Lang Lang</td>\n",
       "    </tr>\n",
       "    <tr>\n",
       "      <th>5</th>\n",
       "      <td>Serenade No. 13 in G Major, K. 525 \"Eine klein...</td>\n",
       "      <td>Wolfgang Amadeus Mozart, La Grande Écurie et l...</td>\n",
       "    </tr>\n",
       "    <tr>\n",
       "      <th>6</th>\n",
       "      <td>Bastien und Bastienne, K. 50</td>\n",
       "      <td>Wolfgang Amadeus Mozart, Capella Istropolitana...</td>\n",
       "    </tr>\n",
       "    <tr>\n",
       "      <th>7</th>\n",
       "      <td>Concerto for Flute, Harp, and Orchestra in C M...</td>\n",
       "      <td>Wolfgang Amadeus Mozart, Susan Palma-Nidel, Na...</td>\n",
       "    </tr>\n",
       "    <tr>\n",
       "      <th>8</th>\n",
       "      <td>Requiem, K. 626: Kyrie</td>\n",
       "      <td>Wolfgang Amadeus Mozart, Academy of Ancient Mu...</td>\n",
       "    </tr>\n",
       "    <tr>\n",
       "      <th>9</th>\n",
       "      <td>ヴァイオリン・ソナタ 変ホ長調, K. 380: 3. Rondo: Allegro</td>\n",
       "      <td>Wolfgang Amadeus Mozart, Rieko Suzuki, Akira W...</td>\n",
       "    </tr>\n",
       "    <tr>\n",
       "      <th>10</th>\n",
       "      <td>Air de la Reine de la nuit (Extrait de la Flût...</td>\n",
       "      <td>Wolfgang Amadeus Mozart, Orchestre Paul Kuentz...</td>\n",
       "    </tr>\n",
       "  </tbody>\n",
       "</table>\n",
       "</div>"
      ],
      "text/plain": [
       "                                            Song Name  \\\n",
       "0   Sonate No. 11 en La Majeur, « Marche turque »,...   \n",
       "1   Violin Sonata in E Minor, K. 304/300c: II. Tem...   \n",
       "2   Symphony No. 25 in G Minor K. 183/K. 173dB: I....   \n",
       "3   Symphony No. 40 in G Minor, K. 550: I. Molto a...   \n",
       "4   12 Variations in C Major on \"Ah, vous dirai-je...   \n",
       "5   Serenade No. 13 in G Major, K. 525 \"Eine klein...   \n",
       "6                        Bastien und Bastienne, K. 50   \n",
       "7   Concerto for Flute, Harp, and Orchestra in C M...   \n",
       "8                              Requiem, K. 626: Kyrie   \n",
       "9          ヴァイオリン・ソナタ 変ホ長調, K. 380: 3. Rondo: Allegro   \n",
       "10  Air de la Reine de la nuit (Extrait de la Flût...   \n",
       "\n",
       "                                            Artist(s)  \n",
       "0             Wolfgang Amadeus Mozart, Aldo Ciccolini  \n",
       "1   Wolfgang Amadeus Mozart, Jonas Vitaud, Mi-Sa Yang  \n",
       "2   Wolfgang Amadeus Mozart, Sir Neville Marriner,...  \n",
       "3   Wolfgang Amadeus Mozart, Heinrich Schiff, Nort...  \n",
       "4                  Wolfgang Amadeus Mozart, Lang Lang  \n",
       "5   Wolfgang Amadeus Mozart, La Grande Écurie et l...  \n",
       "6   Wolfgang Amadeus Mozart, Capella Istropolitana...  \n",
       "7   Wolfgang Amadeus Mozart, Susan Palma-Nidel, Na...  \n",
       "8   Wolfgang Amadeus Mozart, Academy of Ancient Mu...  \n",
       "9   Wolfgang Amadeus Mozart, Rieko Suzuki, Akira W...  \n",
       "10  Wolfgang Amadeus Mozart, Orchestre Paul Kuentz...  "
      ]
     },
     "execution_count": 18,
     "metadata": {},
     "output_type": "execute_result"
    }
   ],
   "source": [
    "playlist = pd.DataFrame(artists, flat_df['items_track_name']).reset_index()\n",
    "playlist.columns = ['Song Name', 'Artist(s)']\n",
    "playlist"
   ]
  },
  {
   "cell_type": "markdown",
   "id": "69cad871",
   "metadata": {},
   "source": [
    "Let's make a clean function to get the song list from any spotify Playlist."
   ]
  },
  {
   "cell_type": "code",
   "execution_count": 19,
   "id": "1bd6fa68",
   "metadata": {},
   "outputs": [],
   "source": [
    "def get_playlist_info(plist_id):\n",
    "    r = requests.get(BASE_URL + 'playlists/' + plist_id + '/tracks?fields=items(track(name, artists(name)))', headers=headers).json()\n",
    "    df = pd.DataFrame(r)\n",
    "    df = flatten(df, ['items'])\n",
    "    df = flatten(df, ['items_track'])\n",
    "    artists = []\n",
    "    for i in range(len(df['items_track_name'])):\n",
    "        artist = df['items_track_artists'][i][0]['name']\n",
    "        if len(df['items_track_artists'][i]) > 1:\n",
    "            for j in range(1, len(df['items_track_artists'][i])):\n",
    "                artist += ', ' + df['items_track_artists'][i][j]['name']\n",
    "        artists.append(artist)\n",
    "    playlist = pd.DataFrame(artists, df['items_track_name']).reset_index()\n",
    "    playlist.columns = ['Song Name', 'Artist(s)']\n",
    "    return playlist    "
   ]
  },
  {
   "cell_type": "code",
   "execution_count": 20,
   "id": "f1e0441b",
   "metadata": {},
   "outputs": [
    {
     "data": {
      "text/html": [
       "<div>\n",
       "<style scoped>\n",
       "    .dataframe tbody tr th:only-of-type {\n",
       "        vertical-align: middle;\n",
       "    }\n",
       "\n",
       "    .dataframe tbody tr th {\n",
       "        vertical-align: top;\n",
       "    }\n",
       "\n",
       "    .dataframe thead th {\n",
       "        text-align: right;\n",
       "    }\n",
       "</style>\n",
       "<table border=\"1\" class=\"dataframe\">\n",
       "  <thead>\n",
       "    <tr style=\"text-align: right;\">\n",
       "      <th></th>\n",
       "      <th>Song Name</th>\n",
       "      <th>Artist(s)</th>\n",
       "    </tr>\n",
       "  </thead>\n",
       "  <tbody>\n",
       "    <tr>\n",
       "      <th>0</th>\n",
       "      <td>Sonate No. 11 en La Majeur, « Marche turque »,...</td>\n",
       "      <td>Wolfgang Amadeus Mozart, Aldo Ciccolini</td>\n",
       "    </tr>\n",
       "    <tr>\n",
       "      <th>1</th>\n",
       "      <td>Violin Sonata in E Minor, K. 304/300c: II. Tem...</td>\n",
       "      <td>Wolfgang Amadeus Mozart, Jonas Vitaud, Mi-Sa Yang</td>\n",
       "    </tr>\n",
       "    <tr>\n",
       "      <th>2</th>\n",
       "      <td>Symphony No. 25 in G Minor K. 183/K. 173dB: I....</td>\n",
       "      <td>Wolfgang Amadeus Mozart, Sir Neville Marriner,...</td>\n",
       "    </tr>\n",
       "    <tr>\n",
       "      <th>3</th>\n",
       "      <td>Symphony No. 40 in G Minor, K. 550: I. Molto a...</td>\n",
       "      <td>Wolfgang Amadeus Mozart, Heinrich Schiff, Nort...</td>\n",
       "    </tr>\n",
       "    <tr>\n",
       "      <th>4</th>\n",
       "      <td>12 Variations in C Major on \"Ah, vous dirai-je...</td>\n",
       "      <td>Wolfgang Amadeus Mozart, Lang Lang</td>\n",
       "    </tr>\n",
       "    <tr>\n",
       "      <th>5</th>\n",
       "      <td>Serenade No. 13 in G Major, K. 525 \"Eine klein...</td>\n",
       "      <td>Wolfgang Amadeus Mozart, La Grande Écurie et l...</td>\n",
       "    </tr>\n",
       "    <tr>\n",
       "      <th>6</th>\n",
       "      <td>Bastien und Bastienne, K. 50</td>\n",
       "      <td>Wolfgang Amadeus Mozart, Capella Istropolitana...</td>\n",
       "    </tr>\n",
       "    <tr>\n",
       "      <th>7</th>\n",
       "      <td>Concerto for Flute, Harp, and Orchestra in C M...</td>\n",
       "      <td>Wolfgang Amadeus Mozart, Susan Palma-Nidel, Na...</td>\n",
       "    </tr>\n",
       "    <tr>\n",
       "      <th>8</th>\n",
       "      <td>Requiem, K. 626: Kyrie</td>\n",
       "      <td>Wolfgang Amadeus Mozart, Academy of Ancient Mu...</td>\n",
       "    </tr>\n",
       "    <tr>\n",
       "      <th>9</th>\n",
       "      <td>ヴァイオリン・ソナタ 変ホ長調, K. 380: 3. Rondo: Allegro</td>\n",
       "      <td>Wolfgang Amadeus Mozart, Rieko Suzuki, Akira W...</td>\n",
       "    </tr>\n",
       "    <tr>\n",
       "      <th>10</th>\n",
       "      <td>Air de la Reine de la nuit (Extrait de la Flût...</td>\n",
       "      <td>Wolfgang Amadeus Mozart, Orchestre Paul Kuentz...</td>\n",
       "    </tr>\n",
       "  </tbody>\n",
       "</table>\n",
       "</div>"
      ],
      "text/plain": [
       "                                            Song Name  \\\n",
       "0   Sonate No. 11 en La Majeur, « Marche turque »,...   \n",
       "1   Violin Sonata in E Minor, K. 304/300c: II. Tem...   \n",
       "2   Symphony No. 25 in G Minor K. 183/K. 173dB: I....   \n",
       "3   Symphony No. 40 in G Minor, K. 550: I. Molto a...   \n",
       "4   12 Variations in C Major on \"Ah, vous dirai-je...   \n",
       "5   Serenade No. 13 in G Major, K. 525 \"Eine klein...   \n",
       "6                        Bastien und Bastienne, K. 50   \n",
       "7   Concerto for Flute, Harp, and Orchestra in C M...   \n",
       "8                              Requiem, K. 626: Kyrie   \n",
       "9          ヴァイオリン・ソナタ 変ホ長調, K. 380: 3. Rondo: Allegro   \n",
       "10  Air de la Reine de la nuit (Extrait de la Flût...   \n",
       "\n",
       "                                            Artist(s)  \n",
       "0             Wolfgang Amadeus Mozart, Aldo Ciccolini  \n",
       "1   Wolfgang Amadeus Mozart, Jonas Vitaud, Mi-Sa Yang  \n",
       "2   Wolfgang Amadeus Mozart, Sir Neville Marriner,...  \n",
       "3   Wolfgang Amadeus Mozart, Heinrich Schiff, Nort...  \n",
       "4                  Wolfgang Amadeus Mozart, Lang Lang  \n",
       "5   Wolfgang Amadeus Mozart, La Grande Écurie et l...  \n",
       "6   Wolfgang Amadeus Mozart, Capella Istropolitana...  \n",
       "7   Wolfgang Amadeus Mozart, Susan Palma-Nidel, Na...  \n",
       "8   Wolfgang Amadeus Mozart, Academy of Ancient Mu...  \n",
       "9   Wolfgang Amadeus Mozart, Rieko Suzuki, Akira W...  \n",
       "10  Wolfgang Amadeus Mozart, Orchestre Paul Kuentz...  "
      ]
     },
     "execution_count": 20,
     "metadata": {},
     "output_type": "execute_result"
    }
   ],
   "source": [
    "df_test = get_playlist_info('6Yin3UZ5nGf0XePvJ9toAO')\n",
    "df_test"
   ]
  },
  {
   "cell_type": "code",
   "execution_count": null,
   "id": "d14fff59",
   "metadata": {},
   "outputs": [],
   "source": []
  },
  {
   "cell_type": "code",
   "execution_count": null,
   "id": "4d796e8e",
   "metadata": {},
   "outputs": [],
   "source": []
  },
  {
   "cell_type": "code",
   "execution_count": null,
   "id": "c9ff6efb",
   "metadata": {},
   "outputs": [],
   "source": []
  }
 ],
 "metadata": {
  "kernelspec": {
   "display_name": "Python 3 (ipykernel)",
   "language": "python",
   "name": "python3"
  },
  "language_info": {
   "codemirror_mode": {
    "name": "ipython",
    "version": 3
   },
   "file_extension": ".py",
   "mimetype": "text/x-python",
   "name": "python",
   "nbconvert_exporter": "python",
   "pygments_lexer": "ipython3",
   "version": "3.9.7"
  }
 },
 "nbformat": 4,
 "nbformat_minor": 5
}
